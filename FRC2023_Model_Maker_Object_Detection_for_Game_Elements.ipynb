{
  "cells": [
    {
      "cell_type": "markdown",
      "metadata": {
        "id": "view-in-github",
        "colab_type": "text"
      },
      "source": [
        "<a href=\"https://colab.research.google.com/github/Arbitrary-2912/RaspberryPiCustomObjectDetection/blob/main/FRC2023_Model_Maker_Object_Detection_for_Game_Elements.ipynb\" target=\"_parent\"><img src=\"https://colab.research.google.com/assets/colab-badge.svg\" alt=\"Open In Colab\"/></a>"
      ]
    },
    {
      "cell_type": "markdown",
      "metadata": {
        "id": "Mq-B5Y6DjRsD"
      },
      "source": [
        "<a href=\"https://colab.research.google.com/github/khanhlvg/tflite_raspberry_pi/blob/main/object_detection/Train_custom_model_tutorial.ipynb\" target=\"_parent\"><img src=\"https://colab.research.google.com/assets/colab-badge.svg\" alt=\"Open In Colab\"/></a>"
      ]
    },
    {
      "cell_type": "markdown",
      "metadata": {
        "id": "PpJEzDG6DK2Q"
      },
      "source": [
        "# Train a custom object detection model with TensorFlow Lite Model Maker\n",
        "\n",
        "In this colab notebook, you'll learn how to use the [TensorFlow Lite Model Maker](https://www.tensorflow.org/lite/guide/model_maker) to train a custom object detection model to detect objects and how to put the model on a Raspberry Pi.\n",
        "\n",
        "The Model Maker library uses *transfer learning* to simplify the process of training a TensorFlow Lite model using a custom dataset. Retraining a TensorFlow Lite model with your own custom dataset reduces the amount of training data required and will shorten the training time.\n"
      ]
    },
    {
      "cell_type": "markdown",
      "metadata": {
        "id": "BRYjtwRZGBOI"
      },
      "source": [
        "## Preparation\n",
        "\n",
        "### Install the required packages\n",
        "Start by installing the required packages, including the Model Maker package from the [GitHub repo](https://github.com/tensorflow/examples/tree/master/tensorflow_examples/lite/model_maker) and the pycocotools library you'll use for evaluation."
      ]
    },
    {
      "cell_type": "code",
      "execution_count": null,
      "metadata": {
        "id": "35BJmtVpAP_n",
        "colab": {
          "base_uri": "https://localhost:8080/"
        },
        "outputId": "2a49aaa9-f6c9-4cbb-8564-f22e26e776a9"
      },
      "outputs": [
        {
          "output_type": "stream",
          "name": "stdout",
          "text": [
            "\u001b[2K     \u001b[90m━━━━━━━━━━━━━━━━━━━━━━━━━━━━━━━━━━━━━━\u001b[0m \u001b[32m577.3/577.3 KB\u001b[0m \u001b[31m10.2 MB/s\u001b[0m eta \u001b[36m0:00:00\u001b[0m\n",
            "\u001b[2K     \u001b[90m━━━━━━━━━━━━━━━━━━━━━━━━━━━━━━━━━━━━━━\u001b[0m \u001b[32m128.0/128.0 KB\u001b[0m \u001b[31m10.2 MB/s\u001b[0m eta \u001b[36m0:00:00\u001b[0m\n",
            "\u001b[2K     \u001b[90m━━━━━━━━━━━━━━━━━━━━━━━━━━━━━━━━━━━━━━\u001b[0m \u001b[32m840.9/840.9 KB\u001b[0m \u001b[31m21.8 MB/s\u001b[0m eta \u001b[36m0:00:00\u001b[0m\n",
            "\u001b[2K     \u001b[90m━━━━━━━━━━━━━━━━━━━━━━━━━━━━━━━━━━━━━━━━\u001b[0m \u001b[32m60.9/60.9 MB\u001b[0m \u001b[31m7.1 MB/s\u001b[0m eta \u001b[36m0:00:00\u001b[0m\n",
            "\u001b[2K     \u001b[90m━━━━━━━━━━━━━━━━━━━━━━━━━━━━━━━━━━━━━━━\u001b[0m \u001b[32m203.8/203.8 KB\u001b[0m \u001b[31m9.0 MB/s\u001b[0m eta \u001b[36m0:00:00\u001b[0m\n",
            "\u001b[2K     \u001b[90m━━━━━━━━━━━━━━━━━━━━━━━━━━━━━━━━━━━━━━━━\u001b[0m \u001b[32m1.3/1.3 MB\u001b[0m \u001b[31m20.5 MB/s\u001b[0m eta \u001b[36m0:00:00\u001b[0m\n",
            "\u001b[2K     \u001b[90m━━━━━━━━━━━━━━━━━━━━━━━━━━━━━━━━━━━━━━━━\u001b[0m \u001b[32m77.5/77.5 KB\u001b[0m \u001b[31m2.5 MB/s\u001b[0m eta \u001b[36m0:00:00\u001b[0m\n",
            "\u001b[2K     \u001b[90m━━━━━━━━━━━━━━━━━━━━━━━━━━━━━━━━━━━━━━━\u001b[0m \u001b[32m108.8/108.8 KB\u001b[0m \u001b[31m7.8 MB/s\u001b[0m eta \u001b[36m0:00:00\u001b[0m\n",
            "\u001b[2K     \u001b[90m━━━━━━━━━━━━━━━━━━━━━━━━━━━━━━━━━━━━━━━━\u001b[0m \u001b[32m10.9/10.9 MB\u001b[0m \u001b[31m32.0 MB/s\u001b[0m eta \u001b[36m0:00:00\u001b[0m\n",
            "\u001b[2K     \u001b[90m━━━━━━━━━━━━━━━━━━━━━━━━━━━━━━━━━━━━━━━\u001b[0m \u001b[32m240.6/240.6 KB\u001b[0m \u001b[31m8.2 MB/s\u001b[0m eta \u001b[36m0:00:00\u001b[0m\n",
            "\u001b[2K     \u001b[90m━━━━━━━━━━━━━━━━━━━━━━━━━━━━━━━━━━━━━━━\u001b[0m \u001b[32m128.6/128.6 KB\u001b[0m \u001b[31m3.9 MB/s\u001b[0m eta \u001b[36m0:00:00\u001b[0m\n",
            "\u001b[2K     \u001b[90m━━━━━━━━━━━━━━━━━━━━━━━━━━━━━━━━━━━━━━━━\u001b[0m \u001b[32m1.1/1.1 MB\u001b[0m \u001b[31m38.3 MB/s\u001b[0m eta \u001b[36m0:00:00\u001b[0m\n",
            "\u001b[2K     \u001b[90m━━━━━━━━━━━━━━━━━━━━━━━━━━━━━━━━━━━━━━━━\u001b[0m \u001b[32m3.4/3.4 MB\u001b[0m \u001b[31m22.2 MB/s\u001b[0m eta \u001b[36m0:00:00\u001b[0m\n",
            "\u001b[2K     \u001b[90m━━━━━━━━━━━━━━━━━━━━━━━━━━━━━━━━━━━━━━━━\u001b[0m \u001b[32m10.3/10.3 MB\u001b[0m \u001b[31m23.2 MB/s\u001b[0m eta \u001b[36m0:00:00\u001b[0m\n",
            "\u001b[2K     \u001b[90m━━━━━━━━━━━━━━━━━━━━━━━━━━━━━━━━━━━━━━━━\u001b[0m \u001b[32m88.3/88.3 KB\u001b[0m \u001b[31m9.8 MB/s\u001b[0m eta \u001b[36m0:00:00\u001b[0m\n",
            "\u001b[?25h  Preparing metadata (setup.py) ... \u001b[?25l\u001b[?25hdone\n",
            "\u001b[2K     \u001b[90m━━━━━━━━━━━━━━━━━━━━━━━━━━━━━━━━━━━━━━━━\u001b[0m \u001b[32m3.1/3.1 MB\u001b[0m \u001b[31m57.4 MB/s\u001b[0m eta \u001b[36m0:00:00\u001b[0m\n",
            "\u001b[2K     \u001b[90m━━━━━━━━━━━━━━━━━━━━━━━━━━━━━━━━━━━━━━━━\u001b[0m \u001b[32m25.3/25.3 MB\u001b[0m \u001b[31m18.5 MB/s\u001b[0m eta \u001b[36m0:00:00\u001b[0m\n",
            "\u001b[2K     \u001b[90m━━━━━━━━━━━━━━━━━━━━━━━━━━━━━━━━━━━━━━━\u001b[0m \u001b[32m498.1/498.1 MB\u001b[0m \u001b[31m2.9 MB/s\u001b[0m eta \u001b[36m0:00:00\u001b[0m\n",
            "\u001b[2K     \u001b[90m━━━━━━━━━━━━━━━━━━━━━━━━━━━━━━━━━━━━━━━━\u001b[0m \u001b[32m5.8/5.8 MB\u001b[0m \u001b[31m56.4 MB/s\u001b[0m eta \u001b[36m0:00:00\u001b[0m\n",
            "\u001b[2K     \u001b[90m━━━━━━━━━━━━━━━━━━━━━━━━━━━━━━━━━━━━━━━━\u001b[0m \u001b[32m1.1/1.1 MB\u001b[0m \u001b[31m26.9 MB/s\u001b[0m eta \u001b[36m0:00:00\u001b[0m\n",
            "\u001b[2K     \u001b[90m━━━━━━━━━━━━━━━━━━━━━━━━━━━━━━━━━━━━━━\u001b[0m \u001b[32m462.3/462.3 KB\u001b[0m \u001b[31m19.4 MB/s\u001b[0m eta \u001b[36m0:00:00\u001b[0m\n",
            "\u001b[2K     \u001b[90m━━━━━━━━━━━━━━━━━━━━━━━━━━━━━━━━━━━━━━━━\u001b[0m \u001b[32m42.6/42.6 KB\u001b[0m \u001b[31m3.1 MB/s\u001b[0m eta \u001b[36m0:00:00\u001b[0m\n",
            "\u001b[2K     \u001b[90m━━━━━━━━━━━━━━━━━━━━━━━━━━━━━━━━━━━━━━━━\u001b[0m \u001b[32m1.4/1.4 MB\u001b[0m \u001b[31m35.3 MB/s\u001b[0m eta \u001b[36m0:00:00\u001b[0m\n",
            "\u001b[2K     \u001b[90m━━━━━━━━━━━━━━━━━━━━━━━━━━━━━━━━━━━━━━━━\u001b[0m \u001b[32m17.3/17.3 MB\u001b[0m \u001b[31m71.6 MB/s\u001b[0m eta \u001b[36m0:00:00\u001b[0m\n",
            "\u001b[2K     \u001b[90m━━━━━━━━━━━━━━━━━━━━━━━━━━━━━━━━━━━━━━━━\u001b[0m \u001b[32m40.9/40.9 KB\u001b[0m \u001b[31m5.1 MB/s\u001b[0m eta \u001b[36m0:00:00\u001b[0m\n",
            "\u001b[2K     \u001b[90m━━━━━━━━━━━━━━━━━━━━━━━━━━━━━━━━━━━━━━\u001b[0m \u001b[32m222.3/222.3 KB\u001b[0m \u001b[31m28.7 MB/s\u001b[0m eta \u001b[36m0:00:00\u001b[0m\n",
            "\u001b[2K     \u001b[90m━━━━━━━━━━━━━━━━━━━━━━━━━━━━━━━━━━━━━━━━\u001b[0m \u001b[32m4.9/4.9 MB\u001b[0m \u001b[31m105.9 MB/s\u001b[0m eta \u001b[36m0:00:00\u001b[0m\n",
            "\u001b[?25h  Building wheel for fire (setup.py) ... \u001b[?25l\u001b[?25hdone\n",
            "\u001b[31mERROR: pip's dependency resolver does not currently take into account all the packages that are installed. This behaviour is the source of the following dependency conflicts.\n",
            "xarray 2022.12.0 requires packaging>=21.3, but you have packaging 20.9 which is incompatible.\n",
            "statsmodels 0.13.5 requires packaging>=21.3, but you have packaging 20.9 which is incompatible.\n",
            "plotnine 0.10.1 requires matplotlib>=3.5.0, but you have matplotlib 3.4.3 which is incompatible.\n",
            "mizani 0.8.1 requires matplotlib>=3.5.0, but you have matplotlib 3.4.3 which is incompatible.\u001b[0m\u001b[31m\n",
            "\u001b[0m"
          ]
        }
      ],
      "source": [
        "!pip install -q tflite-model-maker\n",
        "!pip install -q tflite-support"
      ]
    },
    {
      "cell_type": "markdown",
      "metadata": {
        "id": "prQ86DdtD317"
      },
      "source": [
        "Import the required packages."
      ]
    },
    {
      "cell_type": "code",
      "execution_count": null,
      "metadata": {
        "id": "l4QQTXHHATDS"
      },
      "outputs": [],
      "source": [
        "import numpy as np\n",
        "import os\n",
        "\n",
        "from tflite_model_maker.config import ExportFormat, QuantizationConfig\n",
        "from tflite_model_maker import model_spec\n",
        "from tflite_model_maker import object_detector\n",
        "\n",
        "from tflite_support import metadata\n",
        "\n",
        "import tensorflow as tf\n",
        "assert tf.__version__.startswith('2')\n",
        "\n",
        "tf.get_logger().setLevel('ERROR')\n",
        "from absl import logging\n",
        "logging.set_verbosity(logging.ERROR)"
      ]
    },
    {
      "cell_type": "markdown",
      "metadata": {
        "id": "3g6aQvXsD78P"
      },
      "source": [
        "### Prepare the dataset\n",
        "\n",
        "This dataset contains about 450 images of 2 types of objects: cones and cubes. This is an example image from the dataset.\n",
        "\n",
        "![Two cubes and a cone scored as a low level link](data:image/jpeg;base64,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)\n",
        "\n",
        "We start with downloading the dataset as an exported pascal xml zip (this can be generated through roboflow)."
      ]
    },
    {
      "cell_type": "code",
      "execution_count": null,
      "metadata": {
        "id": "8AGg7D4JAV62"
      },
      "outputs": [],
      "source": [
        "# Removes previous directories (comment out if directories don't exist)\n",
        "# %rm -r train\n",
        "# %rm -r valid\n",
        "# %rm -r test\n",
        "\n",
        "!unzip -q yolov5_2023_game_element_detection.zip # name of uploaded zip file containing dataset"
      ]
    },
    {
      "cell_type": "markdown",
      "metadata": {
        "id": "Yxh3KInCFeB-"
      },
      "source": [
        "## Train the object detection model\n",
        "\n",
        "### Step 1: Load the dataset\n",
        "\n",
        "* Images in `train_data` is used to train the custom object detection model.\n",
        "* Images in `val_data` is used to check if the model can generalize well to new images that it hasn't seen before."
      ]
    },
    {
      "cell_type": "code",
      "execution_count": null,
      "metadata": {
        "id": "WiAahdsQAdT7"
      },
      "outputs": [],
      "source": [
        "train_data = object_detector.DataLoader.from_pascal_voc(\n",
        "    'train',\n",
        "    'train',\n",
        "    ['cone', 'cube', 'tipped_cone']\n",
        ")\n",
        "\n",
        "val_data = object_detector.DataLoader.from_pascal_voc(\n",
        "    'valid',\n",
        "    'valid',\n",
        "    ['cone', 'cube', 'tipped_cone']\n",
        ")"
      ]
    },
    {
      "cell_type": "markdown",
      "metadata": {
        "id": "UNRhB8N7GHXj"
      },
      "source": [
        "### Step 2: Select a model architecture\n",
        "\n",
        "EfficientDet-Lite[0-4] are a family of mobile/IoT-friendly object detection models derived from the [EfficientDet](https://arxiv.org/abs/1911.09070) architecture.\n",
        "\n",
        "Here is the performance of each EfficientDet-Lite models compared with each other.\n",
        "\n",
        "| Model architecture | Size(MB)* | Latency(ms)** | Average Precision*** |\n",
        "|--------------------|-----------|---------------|----------------------|\n",
        "| EfficientDet-Lite0 | 4.4       | 146           | 25.69%               |\n",
        "| EfficientDet-Lite1 | 5.8       | 259           | 30.55%               |\n",
        "| EfficientDet-Lite2 | 7.2       | 396           | 33.97%               |\n",
        "| EfficientDet-Lite3 | 11.4      | 716           | 37.70%               |\n",
        "| EfficientDet-Lite4 | 19.9      | 1886          | 41.96%               |\n",
        "\n",
        "<i> * Size of the integer quantized models. <br/>\n",
        "** Latency measured on Raspberry Pi 4 using 4 threads on CPU. <br/>\n",
        "*** Average Precision is the mAP (mean Average Precision) on the COCO 2017 validation dataset.\n",
        "</i>\n",
        "\n",
        "In this notebook, we use EfficientDet-Lite0 to train our model. You can choose other model architectures depending on whether speed or accuracy is more important to you."
      ]
    },
    {
      "cell_type": "code",
      "execution_count": null,
      "metadata": {
        "id": "GZOojrDHAY1J"
      },
      "outputs": [],
      "source": [
        "spec = model_spec.get('efficientdet_lite1')"
      ]
    },
    {
      "cell_type": "markdown",
      "metadata": {
        "id": "5aeDU4mIM4ft"
      },
      "source": [
        "### Step 3: Train the TensorFlow model with the training data.\n",
        "\n",
        "* Set `epochs = 100`, which means it will go through the training dataset 100 times. You can look at the validation accuracy during training and stop when you see validation loss (`val_loss`) stop decreasing to avoid overfitting.\n",
        "* Set `batch_size = 16` here so you will see that it takes 23 steps to go through the 372 images in the training dataset. If RAM usage is too high, then lower the batch_size to reduce memory footprint.\n",
        "* Set `train_whole_model=True` to fine-tune the whole model instead of just training the head layer to improve accuracy. The trade-off is that it may take longer to train the model."
      ]
    },
    {
      "cell_type": "code",
      "execution_count": null,
      "metadata": {
        "id": "_MClfpsJAfda",
        "colab": {
          "base_uri": "https://localhost:8080/"
        },
        "outputId": "d8769cbe-7c19-469d-b059-615353e6f5d3"
      },
      "outputs": [
        {
          "output_type": "stream",
          "name": "stdout",
          "text": [
            "Epoch 1/100\n",
            "23/23 [==============================] - 73s 984ms/step - det_loss: 1.6085 - cls_loss: 1.0941 - box_loss: 0.0103 - reg_l2_loss: 0.0707 - loss: 1.6793 - learning_rate: 0.0140 - gradient_norm: 1.1444 - val_det_loss: 1.1916 - val_cls_loss: 0.8345 - val_box_loss: 0.0071 - val_reg_l2_loss: 0.0707 - val_loss: 1.2623\n",
            "Epoch 2/100\n",
            "23/23 [==============================] - 18s 811ms/step - det_loss: 0.8177 - cls_loss: 0.5482 - box_loss: 0.0054 - reg_l2_loss: 0.0708 - loss: 0.8885 - learning_rate: 0.0200 - gradient_norm: 1.9926 - val_det_loss: 0.8403 - val_cls_loss: 0.5777 - val_box_loss: 0.0053 - val_reg_l2_loss: 0.0708 - val_loss: 0.9111\n",
            "Epoch 3/100\n",
            "23/23 [==============================] - 21s 909ms/step - det_loss: 0.4185 - cls_loss: 0.2670 - box_loss: 0.0030 - reg_l2_loss: 0.0708 - loss: 0.4893 - learning_rate: 0.0200 - gradient_norm: 1.7115 - val_det_loss: 0.6875 - val_cls_loss: 0.4678 - val_box_loss: 0.0044 - val_reg_l2_loss: 0.0709 - val_loss: 0.7584\n",
            "Epoch 4/100\n",
            "23/23 [==============================] - 19s 854ms/step - det_loss: 0.3425 - cls_loss: 0.2222 - box_loss: 0.0024 - reg_l2_loss: 0.0709 - loss: 0.4134 - learning_rate: 0.0199 - gradient_norm: 1.9513 - val_det_loss: 0.4022 - val_cls_loss: 0.2090 - val_box_loss: 0.0039 - val_reg_l2_loss: 0.0709 - val_loss: 0.4731\n",
            "Epoch 5/100\n",
            "23/23 [==============================] - 30s 1s/step - det_loss: 0.2894 - cls_loss: 0.1902 - box_loss: 0.0020 - reg_l2_loss: 0.0709 - loss: 0.3603 - learning_rate: 0.0199 - gradient_norm: 1.7308 - val_det_loss: 0.3827 - val_cls_loss: 0.2091 - val_box_loss: 0.0035 - val_reg_l2_loss: 0.0709 - val_loss: 0.4537\n",
            "Epoch 6/100\n",
            "23/23 [==============================] - 19s 859ms/step - det_loss: 0.2738 - cls_loss: 0.1782 - box_loss: 0.0019 - reg_l2_loss: 0.0710 - loss: 0.3448 - learning_rate: 0.0198 - gradient_norm: 1.7245 - val_det_loss: 0.3268 - val_cls_loss: 0.2060 - val_box_loss: 0.0024 - val_reg_l2_loss: 0.0710 - val_loss: 0.3978\n",
            "Epoch 7/100\n",
            "23/23 [==============================] - 19s 858ms/step - det_loss: 0.2685 - cls_loss: 0.1771 - box_loss: 0.0018 - reg_l2_loss: 0.0710 - loss: 0.3395 - learning_rate: 0.0198 - gradient_norm: 1.6773 - val_det_loss: 0.3570 - val_cls_loss: 0.2148 - val_box_loss: 0.0028 - val_reg_l2_loss: 0.0710 - val_loss: 0.4280\n",
            "Epoch 8/100\n",
            "23/23 [==============================] - 19s 849ms/step - det_loss: 0.2651 - cls_loss: 0.1804 - box_loss: 0.0017 - reg_l2_loss: 0.0710 - loss: 0.3362 - learning_rate: 0.0197 - gradient_norm: 1.7967 - val_det_loss: 0.3082 - val_cls_loss: 0.1795 - val_box_loss: 0.0026 - val_reg_l2_loss: 0.0710 - val_loss: 0.3792\n",
            "Epoch 9/100\n",
            "23/23 [==============================] - 20s 877ms/step - det_loss: 0.2451 - cls_loss: 0.1639 - box_loss: 0.0016 - reg_l2_loss: 0.0710 - loss: 0.3161 - learning_rate: 0.0196 - gradient_norm: 1.4389 - val_det_loss: 0.2716 - val_cls_loss: 0.1767 - val_box_loss: 0.0019 - val_reg_l2_loss: 0.0710 - val_loss: 0.3426\n",
            "Epoch 10/100\n",
            "23/23 [==============================] - 22s 967ms/step - det_loss: 0.2280 - cls_loss: 0.1559 - box_loss: 0.0014 - reg_l2_loss: 0.0710 - loss: 0.2990 - learning_rate: 0.0195 - gradient_norm: 1.5863 - val_det_loss: 0.2890 - val_cls_loss: 0.1955 - val_box_loss: 0.0019 - val_reg_l2_loss: 0.0710 - val_loss: 0.3600\n",
            "Epoch 11/100\n",
            "23/23 [==============================] - 20s 863ms/step - det_loss: 0.2207 - cls_loss: 0.1509 - box_loss: 0.0014 - reg_l2_loss: 0.0711 - loss: 0.2917 - learning_rate: 0.0194 - gradient_norm: 1.5706 - val_det_loss: 0.2717 - val_cls_loss: 0.1875 - val_box_loss: 0.0017 - val_reg_l2_loss: 0.0711 - val_loss: 0.3428\n",
            "Epoch 12/100\n",
            "23/23 [==============================] - 21s 917ms/step - det_loss: 0.2336 - cls_loss: 0.1517 - box_loss: 0.0016 - reg_l2_loss: 0.0711 - loss: 0.3047 - learning_rate: 0.0193 - gradient_norm: 1.6476 - val_det_loss: 0.3256 - val_cls_loss: 0.2309 - val_box_loss: 0.0019 - val_reg_l2_loss: 0.0711 - val_loss: 0.3967\n",
            "Epoch 13/100\n",
            "23/23 [==============================] - 23s 997ms/step - det_loss: 0.2148 - cls_loss: 0.1486 - box_loss: 0.0013 - reg_l2_loss: 0.0711 - loss: 0.2859 - learning_rate: 0.0192 - gradient_norm: 1.5655 - val_det_loss: 0.3880 - val_cls_loss: 0.2886 - val_box_loss: 0.0020 - val_reg_l2_loss: 0.0711 - val_loss: 0.4591\n",
            "Epoch 14/100\n",
            "23/23 [==============================] - 20s 882ms/step - det_loss: 0.2073 - cls_loss: 0.1434 - box_loss: 0.0013 - reg_l2_loss: 0.0711 - loss: 0.2784 - learning_rate: 0.0191 - gradient_norm: 1.5183 - val_det_loss: 0.5154 - val_cls_loss: 0.3844 - val_box_loss: 0.0026 - val_reg_l2_loss: 0.0711 - val_loss: 0.5865\n",
            "Epoch 15/100\n",
            "23/23 [==============================] - 22s 992ms/step - det_loss: 0.2004 - cls_loss: 0.1402 - box_loss: 0.0012 - reg_l2_loss: 0.0711 - loss: 0.2715 - learning_rate: 0.0190 - gradient_norm: 1.3230 - val_det_loss: 0.4499 - val_cls_loss: 0.3164 - val_box_loss: 0.0027 - val_reg_l2_loss: 0.0711 - val_loss: 0.5210\n",
            "Epoch 16/100\n",
            "23/23 [==============================] - 20s 881ms/step - det_loss: 0.2124 - cls_loss: 0.1448 - box_loss: 0.0014 - reg_l2_loss: 0.0711 - loss: 0.2835 - learning_rate: 0.0188 - gradient_norm: 1.5289 - val_det_loss: 0.3196 - val_cls_loss: 0.2384 - val_box_loss: 0.0016 - val_reg_l2_loss: 0.0711 - val_loss: 0.3907\n",
            "Epoch 17/100\n",
            "23/23 [==============================] - 19s 836ms/step - det_loss: 0.2064 - cls_loss: 0.1436 - box_loss: 0.0013 - reg_l2_loss: 0.0711 - loss: 0.2776 - learning_rate: 0.0187 - gradient_norm: 1.5387 - val_det_loss: 0.2826 - val_cls_loss: 0.2142 - val_box_loss: 0.0014 - val_reg_l2_loss: 0.0711 - val_loss: 0.3537\n",
            "Epoch 18/100\n",
            "23/23 [==============================] - 19s 855ms/step - det_loss: 0.1907 - cls_loss: 0.1320 - box_loss: 0.0012 - reg_l2_loss: 0.0711 - loss: 0.2618 - learning_rate: 0.0185 - gradient_norm: 1.1899 - val_det_loss: 0.2667 - val_cls_loss: 0.2001 - val_box_loss: 0.0013 - val_reg_l2_loss: 0.0712 - val_loss: 0.3379\n",
            "Epoch 19/100\n",
            "23/23 [==============================] - 19s 849ms/step - det_loss: 0.1911 - cls_loss: 0.1312 - box_loss: 0.0012 - reg_l2_loss: 0.0712 - loss: 0.2623 - learning_rate: 0.0183 - gradient_norm: 1.4031 - val_det_loss: 0.3286 - val_cls_loss: 0.2207 - val_box_loss: 0.0022 - val_reg_l2_loss: 0.0712 - val_loss: 0.3997\n",
            "Epoch 20/100\n",
            "23/23 [==============================] - 24s 1s/step - det_loss: 0.1981 - cls_loss: 0.1383 - box_loss: 0.0012 - reg_l2_loss: 0.0712 - loss: 0.2693 - learning_rate: 0.0181 - gradient_norm: 1.4493 - val_det_loss: 0.2809 - val_cls_loss: 0.2076 - val_box_loss: 0.0015 - val_reg_l2_loss: 0.0712 - val_loss: 0.3521\n",
            "Epoch 21/100\n",
            "23/23 [==============================] - 22s 950ms/step - det_loss: 0.1813 - cls_loss: 0.1312 - box_loss: 0.0010 - reg_l2_loss: 0.0712 - loss: 0.2524 - learning_rate: 0.0180 - gradient_norm: 1.2024 - val_det_loss: 0.2659 - val_cls_loss: 0.2092 - val_box_loss: 0.0011 - val_reg_l2_loss: 0.0712 - val_loss: 0.3371\n",
            "Epoch 22/100\n",
            "23/23 [==============================] - 22s 971ms/step - det_loss: 0.1850 - cls_loss: 0.1323 - box_loss: 0.0011 - reg_l2_loss: 0.0712 - loss: 0.2562 - learning_rate: 0.0178 - gradient_norm: 1.2511 - val_det_loss: 0.2797 - val_cls_loss: 0.2143 - val_box_loss: 0.0013 - val_reg_l2_loss: 0.0712 - val_loss: 0.3509\n",
            "Epoch 23/100\n",
            "23/23 [==============================] - 19s 858ms/step - det_loss: 0.1792 - cls_loss: 0.1233 - box_loss: 0.0011 - reg_l2_loss: 0.0712 - loss: 0.2504 - learning_rate: 0.0176 - gradient_norm: 1.2530 - val_det_loss: 0.2562 - val_cls_loss: 0.1983 - val_box_loss: 0.0012 - val_reg_l2_loss: 0.0712 - val_loss: 0.3273\n",
            "Epoch 24/100\n",
            "23/23 [==============================] - 20s 874ms/step - det_loss: 0.1741 - cls_loss: 0.1231 - box_loss: 0.0010 - reg_l2_loss: 0.0712 - loss: 0.2452 - learning_rate: 0.0173 - gradient_norm: 1.1530 - val_det_loss: 0.2253 - val_cls_loss: 0.1607 - val_box_loss: 0.0013 - val_reg_l2_loss: 0.0712 - val_loss: 0.2965\n",
            "Epoch 25/100\n",
            "23/23 [==============================] - 22s 951ms/step - det_loss: 0.1681 - cls_loss: 0.1218 - box_loss: 9.2559e-04 - reg_l2_loss: 0.0712 - loss: 0.2392 - learning_rate: 0.0171 - gradient_norm: 1.2178 - val_det_loss: 0.2518 - val_cls_loss: 0.1789 - val_box_loss: 0.0015 - val_reg_l2_loss: 0.0712 - val_loss: 0.3229\n",
            "Epoch 26/100\n",
            "23/23 [==============================] - 19s 842ms/step - det_loss: 0.1648 - cls_loss: 0.1201 - box_loss: 8.9436e-04 - reg_l2_loss: 0.0712 - loss: 0.2360 - learning_rate: 0.0169 - gradient_norm: 1.1363 - val_det_loss: 0.2435 - val_cls_loss: 0.1846 - val_box_loss: 0.0012 - val_reg_l2_loss: 0.0712 - val_loss: 0.3147\n",
            "Epoch 27/100\n",
            "23/23 [==============================] - 19s 853ms/step - det_loss: 0.1651 - cls_loss: 0.1181 - box_loss: 9.4023e-04 - reg_l2_loss: 0.0712 - loss: 0.2363 - learning_rate: 0.0167 - gradient_norm: 1.1426 - val_det_loss: 0.2255 - val_cls_loss: 0.1501 - val_box_loss: 0.0015 - val_reg_l2_loss: 0.0711 - val_loss: 0.2966\n",
            "Epoch 28/100\n",
            "23/23 [==============================] - 20s 890ms/step - det_loss: 0.1603 - cls_loss: 0.1141 - box_loss: 9.2414e-04 - reg_l2_loss: 0.0711 - loss: 0.2315 - learning_rate: 0.0164 - gradient_norm: 1.1819 - val_det_loss: 0.2450 - val_cls_loss: 0.1878 - val_box_loss: 0.0011 - val_reg_l2_loss: 0.0711 - val_loss: 0.3161\n",
            "Epoch 29/100\n",
            "23/23 [==============================] - 21s 906ms/step - det_loss: 0.1652 - cls_loss: 0.1176 - box_loss: 9.5096e-04 - reg_l2_loss: 0.0711 - loss: 0.2363 - learning_rate: 0.0162 - gradient_norm: 1.2335 - val_det_loss: 0.2348 - val_cls_loss: 0.1652 - val_box_loss: 0.0014 - val_reg_l2_loss: 0.0711 - val_loss: 0.3059\n",
            "Epoch 30/100\n",
            "23/23 [==============================] - 24s 1s/step - det_loss: 0.1621 - cls_loss: 0.1154 - box_loss: 9.3366e-04 - reg_l2_loss: 0.0711 - loss: 0.2332 - learning_rate: 0.0159 - gradient_norm: 1.2263 - val_det_loss: 0.2574 - val_cls_loss: 0.1952 - val_box_loss: 0.0012 - val_reg_l2_loss: 0.0711 - val_loss: 0.3285\n",
            "Epoch 31/100\n",
            "23/23 [==============================] - 20s 860ms/step - det_loss: 0.1669 - cls_loss: 0.1202 - box_loss: 9.3398e-04 - reg_l2_loss: 0.0711 - loss: 0.2380 - learning_rate: 0.0157 - gradient_norm: 1.2344 - val_det_loss: 0.2466 - val_cls_loss: 0.1866 - val_box_loss: 0.0012 - val_reg_l2_loss: 0.0711 - val_loss: 0.3177\n",
            "Epoch 32/100\n",
            "23/23 [==============================] - 20s 867ms/step - det_loss: 0.1563 - cls_loss: 0.1123 - box_loss: 8.8012e-04 - reg_l2_loss: 0.0711 - loss: 0.2274 - learning_rate: 0.0154 - gradient_norm: 1.2001 - val_det_loss: 0.2281 - val_cls_loss: 0.1611 - val_box_loss: 0.0013 - val_reg_l2_loss: 0.0711 - val_loss: 0.2992\n",
            "Epoch 33/100\n",
            "23/23 [==============================] - 19s 844ms/step - det_loss: 0.1541 - cls_loss: 0.1095 - box_loss: 8.9114e-04 - reg_l2_loss: 0.0711 - loss: 0.2252 - learning_rate: 0.0151 - gradient_norm: 1.1647 - val_det_loss: 0.2196 - val_cls_loss: 0.1638 - val_box_loss: 0.0011 - val_reg_l2_loss: 0.0711 - val_loss: 0.2908\n",
            "Epoch 34/100\n",
            "23/23 [==============================] - 19s 825ms/step - det_loss: 0.1526 - cls_loss: 0.1099 - box_loss: 8.5436e-04 - reg_l2_loss: 0.0711 - loss: 0.2238 - learning_rate: 0.0149 - gradient_norm: 1.1835 - val_det_loss: 0.2323 - val_cls_loss: 0.1707 - val_box_loss: 0.0012 - val_reg_l2_loss: 0.0711 - val_loss: 0.3034\n",
            "Epoch 35/100\n",
            "23/23 [==============================] - 22s 985ms/step - det_loss: 0.1493 - cls_loss: 0.1084 - box_loss: 8.1827e-04 - reg_l2_loss: 0.0711 - loss: 0.2204 - learning_rate: 0.0146 - gradient_norm: 1.1503 - val_det_loss: 0.2179 - val_cls_loss: 0.1699 - val_box_loss: 9.6068e-04 - val_reg_l2_loss: 0.0711 - val_loss: 0.2891\n",
            "Epoch 36/100\n",
            "23/23 [==============================] - 20s 853ms/step - det_loss: 0.1526 - cls_loss: 0.1094 - box_loss: 8.6381e-04 - reg_l2_loss: 0.0711 - loss: 0.2237 - learning_rate: 0.0143 - gradient_norm: 1.2381 - val_det_loss: 0.2360 - val_cls_loss: 0.1882 - val_box_loss: 9.5572e-04 - val_reg_l2_loss: 0.0711 - val_loss: 0.3071\n",
            "Epoch 37/100\n",
            "23/23 [==============================] - 19s 850ms/step - det_loss: 0.1459 - cls_loss: 0.1067 - box_loss: 7.8316e-04 - reg_l2_loss: 0.0711 - loss: 0.2170 - learning_rate: 0.0140 - gradient_norm: 1.2249 - val_det_loss: 0.2165 - val_cls_loss: 0.1743 - val_box_loss: 8.4461e-04 - val_reg_l2_loss: 0.0711 - val_loss: 0.2876\n",
            "Epoch 38/100\n",
            "23/23 [==============================] - 20s 860ms/step - det_loss: 0.1424 - cls_loss: 0.1065 - box_loss: 7.1857e-04 - reg_l2_loss: 0.0711 - loss: 0.2135 - learning_rate: 0.0137 - gradient_norm: 1.1218 - val_det_loss: 0.2265 - val_cls_loss: 0.1721 - val_box_loss: 0.0011 - val_reg_l2_loss: 0.0711 - val_loss: 0.2976\n",
            "Epoch 39/100\n",
            "23/23 [==============================] - 21s 920ms/step - det_loss: 0.1537 - cls_loss: 0.1102 - box_loss: 8.7056e-04 - reg_l2_loss: 0.0711 - loss: 0.2248 - learning_rate: 0.0134 - gradient_norm: 1.2837 - val_det_loss: 0.2508 - val_cls_loss: 0.1947 - val_box_loss: 0.0011 - val_reg_l2_loss: 0.0711 - val_loss: 0.3219\n",
            "Epoch 40/100\n",
            "23/23 [==============================] - 25s 1s/step - det_loss: 0.1499 - cls_loss: 0.1089 - box_loss: 8.1879e-04 - reg_l2_loss: 0.0711 - loss: 0.2210 - learning_rate: 0.0131 - gradient_norm: 1.2282 - val_det_loss: 0.2905 - val_cls_loss: 0.2179 - val_box_loss: 0.0015 - val_reg_l2_loss: 0.0711 - val_loss: 0.3615\n",
            "Epoch 41/100\n",
            "23/23 [==============================] - 19s 838ms/step - det_loss: 0.1366 - cls_loss: 0.0995 - box_loss: 7.4129e-04 - reg_l2_loss: 0.0711 - loss: 0.2077 - learning_rate: 0.0128 - gradient_norm: 1.0781 - val_det_loss: 0.2456 - val_cls_loss: 0.1868 - val_box_loss: 0.0012 - val_reg_l2_loss: 0.0711 - val_loss: 0.3167\n",
            "Epoch 42/100\n",
            "23/23 [==============================] - 19s 841ms/step - det_loss: 0.1482 - cls_loss: 0.1076 - box_loss: 8.1268e-04 - reg_l2_loss: 0.0711 - loss: 0.2193 - learning_rate: 0.0125 - gradient_norm: 1.1598 - val_det_loss: 0.2921 - val_cls_loss: 0.2230 - val_box_loss: 0.0014 - val_reg_l2_loss: 0.0711 - val_loss: 0.3631\n",
            "Epoch 43/100\n",
            "23/23 [==============================] - 20s 873ms/step - det_loss: 0.1367 - cls_loss: 0.0995 - box_loss: 7.4481e-04 - reg_l2_loss: 0.0711 - loss: 0.2078 - learning_rate: 0.0122 - gradient_norm: 1.1083 - val_det_loss: 0.2529 - val_cls_loss: 0.1909 - val_box_loss: 0.0012 - val_reg_l2_loss: 0.0711 - val_loss: 0.3240\n",
            "Epoch 44/100\n",
            "23/23 [==============================] - 19s 855ms/step - det_loss: 0.1421 - cls_loss: 0.1023 - box_loss: 7.9457e-04 - reg_l2_loss: 0.0711 - loss: 0.2131 - learning_rate: 0.0119 - gradient_norm: 1.0988 - val_det_loss: 0.2365 - val_cls_loss: 0.1870 - val_box_loss: 9.9063e-04 - val_reg_l2_loss: 0.0711 - val_loss: 0.3076\n",
            "Epoch 45/100\n",
            "23/23 [==============================] - 23s 1s/step - det_loss: 0.1370 - cls_loss: 0.1011 - box_loss: 7.1873e-04 - reg_l2_loss: 0.0711 - loss: 0.2081 - learning_rate: 0.0116 - gradient_norm: 1.0392 - val_det_loss: 0.2548 - val_cls_loss: 0.1990 - val_box_loss: 0.0011 - val_reg_l2_loss: 0.0711 - val_loss: 0.3259\n",
            "Epoch 46/100\n",
            "23/23 [==============================] - 23s 999ms/step - det_loss: 0.1353 - cls_loss: 0.0990 - box_loss: 7.2498e-04 - reg_l2_loss: 0.0711 - loss: 0.2063 - learning_rate: 0.0113 - gradient_norm: 1.0636 - val_det_loss: 0.2764 - val_cls_loss: 0.2079 - val_box_loss: 0.0014 - val_reg_l2_loss: 0.0711 - val_loss: 0.3475\n",
            "Epoch 47/100\n",
            "23/23 [==============================] - 21s 918ms/step - det_loss: 0.1351 - cls_loss: 0.0992 - box_loss: 7.1806e-04 - reg_l2_loss: 0.0711 - loss: 0.2061 - learning_rate: 0.0110 - gradient_norm: 1.2101 - val_det_loss: 0.2733 - val_cls_loss: 0.2176 - val_box_loss: 0.0011 - val_reg_l2_loss: 0.0710 - val_loss: 0.3444\n",
            "Epoch 48/100\n",
            "23/23 [==============================] - 20s 865ms/step - det_loss: 0.1332 - cls_loss: 0.0989 - box_loss: 6.8657e-04 - reg_l2_loss: 0.0710 - loss: 0.2042 - learning_rate: 0.0106 - gradient_norm: 1.1000 - val_det_loss: 0.2984 - val_cls_loss: 0.2403 - val_box_loss: 0.0012 - val_reg_l2_loss: 0.0710 - val_loss: 0.3695\n",
            "Epoch 49/100\n",
            "23/23 [==============================] - 19s 833ms/step - det_loss: 0.1320 - cls_loss: 0.0985 - box_loss: 6.7009e-04 - reg_l2_loss: 0.0710 - loss: 0.2030 - learning_rate: 0.0103 - gradient_norm: 1.1121 - val_det_loss: 0.3255 - val_cls_loss: 0.2602 - val_box_loss: 0.0013 - val_reg_l2_loss: 0.0710 - val_loss: 0.3966\n",
            "Epoch 50/100\n",
            "23/23 [==============================] - 22s 983ms/step - det_loss: 0.1313 - cls_loss: 0.0958 - box_loss: 7.0912e-04 - reg_l2_loss: 0.0710 - loss: 0.2023 - learning_rate: 0.0100 - gradient_norm: 1.0823 - val_det_loss: 0.2705 - val_cls_loss: 0.2142 - val_box_loss: 0.0011 - val_reg_l2_loss: 0.0710 - val_loss: 0.3415\n",
            "Epoch 51/100\n",
            "23/23 [==============================] - 19s 853ms/step - det_loss: 0.1301 - cls_loss: 0.0959 - box_loss: 6.8318e-04 - reg_l2_loss: 0.0710 - loss: 0.2011 - learning_rate: 0.0097 - gradient_norm: 1.0994 - val_det_loss: 0.2338 - val_cls_loss: 0.1823 - val_box_loss: 0.0010 - val_reg_l2_loss: 0.0710 - val_loss: 0.3048\n",
            "Epoch 52/100\n",
            "23/23 [==============================] - 19s 855ms/step - det_loss: 0.1277 - cls_loss: 0.0953 - box_loss: 6.4760e-04 - reg_l2_loss: 0.0710 - loss: 0.1987 - learning_rate: 0.0094 - gradient_norm: 1.2121 - val_det_loss: 0.2936 - val_cls_loss: 0.2410 - val_box_loss: 0.0011 - val_reg_l2_loss: 0.0710 - val_loss: 0.3646\n",
            "Epoch 53/100\n",
            "23/23 [==============================] - 20s 864ms/step - det_loss: 0.1266 - cls_loss: 0.0957 - box_loss: 6.1717e-04 - reg_l2_loss: 0.0710 - loss: 0.1976 - learning_rate: 0.0091 - gradient_norm: 1.1271 - val_det_loss: 0.2546 - val_cls_loss: 0.2029 - val_box_loss: 0.0010 - val_reg_l2_loss: 0.0710 - val_loss: 0.3256\n",
            "Epoch 54/100\n",
            "23/23 [==============================] - 21s 938ms/step - det_loss: 0.1225 - cls_loss: 0.0918 - box_loss: 6.1574e-04 - reg_l2_loss: 0.0710 - loss: 0.1936 - learning_rate: 0.0087 - gradient_norm: 1.0340 - val_det_loss: 0.2549 - val_cls_loss: 0.2099 - val_box_loss: 9.0137e-04 - val_reg_l2_loss: 0.0710 - val_loss: 0.3260\n",
            "Epoch 55/100\n",
            "23/23 [==============================] - 24s 1s/step - det_loss: 0.1238 - cls_loss: 0.0924 - box_loss: 6.2853e-04 - reg_l2_loss: 0.0710 - loss: 0.1948 - learning_rate: 0.0084 - gradient_norm: 1.0815 - val_det_loss: 0.2120 - val_cls_loss: 0.1680 - val_box_loss: 8.7962e-04 - val_reg_l2_loss: 0.0710 - val_loss: 0.2830\n",
            "Epoch 56/100\n",
            "23/23 [==============================] - 20s 864ms/step - det_loss: 0.1358 - cls_loss: 0.0997 - box_loss: 7.2149e-04 - reg_l2_loss: 0.0710 - loss: 0.2068 - learning_rate: 0.0081 - gradient_norm: 1.3359 - val_det_loss: 0.4070 - val_cls_loss: 0.3251 - val_box_loss: 0.0016 - val_reg_l2_loss: 0.0710 - val_loss: 0.4780\n",
            "Epoch 57/100\n",
            "23/23 [==============================] - 19s 843ms/step - det_loss: 0.1270 - cls_loss: 0.0945 - box_loss: 6.5189e-04 - reg_l2_loss: 0.0710 - loss: 0.1980 - learning_rate: 0.0078 - gradient_norm: 1.2230 - val_det_loss: 0.3191 - val_cls_loss: 0.2617 - val_box_loss: 0.0011 - val_reg_l2_loss: 0.0710 - val_loss: 0.3901\n",
            "Epoch 58/100\n",
            "23/23 [==============================] - 20s 862ms/step - det_loss: 0.1275 - cls_loss: 0.0947 - box_loss: 6.5745e-04 - reg_l2_loss: 0.0710 - loss: 0.1985 - learning_rate: 0.0075 - gradient_norm: 1.1855 - val_det_loss: 0.3128 - val_cls_loss: 0.2612 - val_box_loss: 0.0010 - val_reg_l2_loss: 0.0710 - val_loss: 0.3838\n",
            "Epoch 59/100\n",
            "23/23 [==============================] - 19s 842ms/step - det_loss: 0.1274 - cls_loss: 0.0929 - box_loss: 6.9052e-04 - reg_l2_loss: 0.0710 - loss: 0.1984 - learning_rate: 0.0072 - gradient_norm: 1.1888 - val_det_loss: 0.2931 - val_cls_loss: 0.2348 - val_box_loss: 0.0012 - val_reg_l2_loss: 0.0710 - val_loss: 0.3641\n",
            "Epoch 60/100\n",
            "23/23 [==============================] - 22s 955ms/step - det_loss: 0.1184 - cls_loss: 0.0894 - box_loss: 5.7830e-04 - reg_l2_loss: 0.0710 - loss: 0.1893 - learning_rate: 0.0069 - gradient_norm: 1.0935 - val_det_loss: 0.3258 - val_cls_loss: 0.2688 - val_box_loss: 0.0011 - val_reg_l2_loss: 0.0710 - val_loss: 0.3968\n",
            "Epoch 61/100\n",
            "23/23 [==============================] - 19s 839ms/step - det_loss: 0.1163 - cls_loss: 0.0888 - box_loss: 5.5036e-04 - reg_l2_loss: 0.0710 - loss: 0.1873 - learning_rate: 0.0066 - gradient_norm: 1.1363 - val_det_loss: 0.3069 - val_cls_loss: 0.2513 - val_box_loss: 0.0011 - val_reg_l2_loss: 0.0710 - val_loss: 0.3779\n",
            "Epoch 62/100\n",
            "23/23 [==============================] - 20s 886ms/step - det_loss: 0.1234 - cls_loss: 0.0921 - box_loss: 6.2577e-04 - reg_l2_loss: 0.0710 - loss: 0.1944 - learning_rate: 0.0063 - gradient_norm: 1.1425 - val_det_loss: 0.2963 - val_cls_loss: 0.2355 - val_box_loss: 0.0012 - val_reg_l2_loss: 0.0710 - val_loss: 0.3673\n",
            "Epoch 63/100\n",
            "23/23 [==============================] - 20s 857ms/step - det_loss: 0.1193 - cls_loss: 0.0888 - box_loss: 6.1062e-04 - reg_l2_loss: 0.0710 - loss: 0.1903 - learning_rate: 0.0060 - gradient_norm: 1.0790 - val_det_loss: 0.2471 - val_cls_loss: 0.1890 - val_box_loss: 0.0012 - val_reg_l2_loss: 0.0710 - val_loss: 0.3180\n",
            "Epoch 64/100\n",
            "23/23 [==============================] - 20s 875ms/step - det_loss: 0.1227 - cls_loss: 0.0917 - box_loss: 6.2010e-04 - reg_l2_loss: 0.0710 - loss: 0.1937 - learning_rate: 0.0057 - gradient_norm: 1.0946 - val_det_loss: 0.2479 - val_cls_loss: 0.1933 - val_box_loss: 0.0011 - val_reg_l2_loss: 0.0710 - val_loss: 0.3188\n",
            "Epoch 65/100\n",
            "23/23 [==============================] - 25s 1s/step - det_loss: 0.1182 - cls_loss: 0.0902 - box_loss: 5.6066e-04 - reg_l2_loss: 0.0710 - loss: 0.1892 - learning_rate: 0.0054 - gradient_norm: 1.0750 - val_det_loss: 0.2819 - val_cls_loss: 0.2198 - val_box_loss: 0.0012 - val_reg_l2_loss: 0.0710 - val_loss: 0.3528\n",
            "Epoch 66/100\n",
            "23/23 [==============================] - 20s 899ms/step - det_loss: 0.1190 - cls_loss: 0.0912 - box_loss: 5.5709e-04 - reg_l2_loss: 0.0710 - loss: 0.1900 - learning_rate: 0.0051 - gradient_norm: 1.1313 - val_det_loss: 0.2615 - val_cls_loss: 0.1971 - val_box_loss: 0.0013 - val_reg_l2_loss: 0.0709 - val_loss: 0.3324\n",
            "Epoch 67/100\n",
            "23/23 [==============================] - 19s 852ms/step - det_loss: 0.1152 - cls_loss: 0.0870 - box_loss: 5.6347e-04 - reg_l2_loss: 0.0709 - loss: 0.1861 - learning_rate: 0.0049 - gradient_norm: 1.0153 - val_det_loss: 0.2566 - val_cls_loss: 0.1986 - val_box_loss: 0.0012 - val_reg_l2_loss: 0.0709 - val_loss: 0.3276\n",
            "Epoch 68/100\n",
            "23/23 [==============================] - 19s 837ms/step - det_loss: 0.1153 - cls_loss: 0.0862 - box_loss: 5.8301e-04 - reg_l2_loss: 0.0709 - loss: 0.1863 - learning_rate: 0.0046 - gradient_norm: 1.0758 - val_det_loss: 0.2727 - val_cls_loss: 0.2181 - val_box_loss: 0.0011 - val_reg_l2_loss: 0.0709 - val_loss: 0.3437\n",
            "Epoch 69/100\n",
            "23/23 [==============================] - 19s 849ms/step - det_loss: 0.1110 - cls_loss: 0.0861 - box_loss: 4.9701e-04 - reg_l2_loss: 0.0709 - loss: 0.1819 - learning_rate: 0.0043 - gradient_norm: 1.0977 - val_det_loss: 0.2600 - val_cls_loss: 0.2062 - val_box_loss: 0.0011 - val_reg_l2_loss: 0.0709 - val_loss: 0.3309\n",
            "Epoch 70/100\n",
            "23/23 [==============================] - 23s 1s/step - det_loss: 0.1107 - cls_loss: 0.0831 - box_loss: 5.5347e-04 - reg_l2_loss: 0.0709 - loss: 0.1817 - learning_rate: 0.0041 - gradient_norm: 0.9927 - val_det_loss: 0.2651 - val_cls_loss: 0.2043 - val_box_loss: 0.0012 - val_reg_l2_loss: 0.0709 - val_loss: 0.3360\n",
            "Epoch 71/100\n",
            "23/23 [==============================] - 19s 843ms/step - det_loss: 0.1083 - cls_loss: 0.0837 - box_loss: 4.9041e-04 - reg_l2_loss: 0.0709 - loss: 0.1792 - learning_rate: 0.0038 - gradient_norm: 0.9530 - val_det_loss: 0.2610 - val_cls_loss: 0.2018 - val_box_loss: 0.0012 - val_reg_l2_loss: 0.0709 - val_loss: 0.3320\n",
            "Epoch 72/100\n",
            "23/23 [==============================] - 21s 915ms/step - det_loss: 0.1124 - cls_loss: 0.0838 - box_loss: 5.7254e-04 - reg_l2_loss: 0.0709 - loss: 0.1833 - learning_rate: 0.0036 - gradient_norm: 0.9657 - val_det_loss: 0.2561 - val_cls_loss: 0.1986 - val_box_loss: 0.0011 - val_reg_l2_loss: 0.0709 - val_loss: 0.3270\n",
            "Epoch 73/100\n",
            "23/23 [==============================] - 23s 1s/step - det_loss: 0.1116 - cls_loss: 0.0850 - box_loss: 5.3338e-04 - reg_l2_loss: 0.0709 - loss: 0.1826 - learning_rate: 0.0033 - gradient_norm: 0.9465 - val_det_loss: 0.2525 - val_cls_loss: 0.1950 - val_box_loss: 0.0012 - val_reg_l2_loss: 0.0709 - val_loss: 0.3235\n",
            "Epoch 74/100\n",
            "23/23 [==============================] - 20s 882ms/step - det_loss: 0.1085 - cls_loss: 0.0841 - box_loss: 4.8816e-04 - reg_l2_loss: 0.0709 - loss: 0.1794 - learning_rate: 0.0031 - gradient_norm: 1.0302 - val_det_loss: 0.2620 - val_cls_loss: 0.2071 - val_box_loss: 0.0011 - val_reg_l2_loss: 0.0709 - val_loss: 0.3329\n",
            "Epoch 75/100\n",
            "23/23 [==============================] - 22s 978ms/step - det_loss: 0.1104 - cls_loss: 0.0833 - box_loss: 5.4331e-04 - reg_l2_loss: 0.0709 - loss: 0.1814 - learning_rate: 0.0029 - gradient_norm: 1.0585 - val_det_loss: 0.2570 - val_cls_loss: 0.2011 - val_box_loss: 0.0011 - val_reg_l2_loss: 0.0709 - val_loss: 0.3279\n",
            "Epoch 76/100\n",
            "23/23 [==============================] - 19s 835ms/step - det_loss: 0.1117 - cls_loss: 0.0855 - box_loss: 5.2531e-04 - reg_l2_loss: 0.0709 - loss: 0.1827 - learning_rate: 0.0027 - gradient_norm: 1.0374 - val_det_loss: 0.2528 - val_cls_loss: 0.1992 - val_box_loss: 0.0011 - val_reg_l2_loss: 0.0709 - val_loss: 0.3237\n",
            "Epoch 77/100\n",
            "23/23 [==============================] - 20s 890ms/step - det_loss: 0.1105 - cls_loss: 0.0848 - box_loss: 5.1335e-04 - reg_l2_loss: 0.0709 - loss: 0.1814 - learning_rate: 0.0024 - gradient_norm: 1.0181 - val_det_loss: 0.2447 - val_cls_loss: 0.1933 - val_box_loss: 0.0010 - val_reg_l2_loss: 0.0709 - val_loss: 0.3156\n",
            "Epoch 78/100\n",
            "23/23 [==============================] - 19s 839ms/step - det_loss: 0.1071 - cls_loss: 0.0822 - box_loss: 4.9908e-04 - reg_l2_loss: 0.0709 - loss: 0.1780 - learning_rate: 0.0022 - gradient_norm: 0.9308 - val_det_loss: 0.2433 - val_cls_loss: 0.1919 - val_box_loss: 0.0010 - val_reg_l2_loss: 0.0709 - val_loss: 0.3142\n",
            "Epoch 79/100\n",
            "23/23 [==============================] - 19s 837ms/step - det_loss: 0.1079 - cls_loss: 0.0806 - box_loss: 5.4674e-04 - reg_l2_loss: 0.0709 - loss: 0.1788 - learning_rate: 0.0020 - gradient_norm: 0.9668 - val_det_loss: 0.2477 - val_cls_loss: 0.1967 - val_box_loss: 0.0010 - val_reg_l2_loss: 0.0709 - val_loss: 0.3186\n",
            "Epoch 80/100\n",
            "23/23 [==============================] - 26s 1s/step - det_loss: 0.1113 - cls_loss: 0.0832 - box_loss: 5.6222e-04 - reg_l2_loss: 0.0709 - loss: 0.1823 - learning_rate: 0.0019 - gradient_norm: 1.0203 - val_det_loss: 0.2513 - val_cls_loss: 0.2003 - val_box_loss: 0.0010 - val_reg_l2_loss: 0.0709 - val_loss: 0.3222\n",
            "Epoch 81/100\n",
            "23/23 [==============================] - 21s 925ms/step - det_loss: 0.0999 - cls_loss: 0.0773 - box_loss: 4.5276e-04 - reg_l2_loss: 0.0709 - loss: 0.1708 - learning_rate: 0.0017 - gradient_norm: 0.9302 - val_det_loss: 0.2532 - val_cls_loss: 0.2028 - val_box_loss: 0.0010 - val_reg_l2_loss: 0.0709 - val_loss: 0.3241\n",
            "Epoch 82/100\n",
            "23/23 [==============================] - 20s 863ms/step - det_loss: 0.1121 - cls_loss: 0.0832 - box_loss: 5.7834e-04 - reg_l2_loss: 0.0709 - loss: 0.1830 - learning_rate: 0.0015 - gradient_norm: 1.0751 - val_det_loss: 0.2589 - val_cls_loss: 0.2077 - val_box_loss: 0.0010 - val_reg_l2_loss: 0.0709 - val_loss: 0.3298\n",
            "Epoch 83/100\n",
            "23/23 [==============================] - 20s 859ms/step - det_loss: 0.1057 - cls_loss: 0.0814 - box_loss: 4.8715e-04 - reg_l2_loss: 0.0709 - loss: 0.1767 - learning_rate: 0.0013 - gradient_norm: 0.9864 - val_det_loss: 0.2613 - val_cls_loss: 0.2108 - val_box_loss: 0.0010 - val_reg_l2_loss: 0.0709 - val_loss: 0.3322\n",
            "Epoch 84/100\n",
            "23/23 [==============================] - 19s 828ms/step - det_loss: 0.1082 - cls_loss: 0.0821 - box_loss: 5.2103e-04 - reg_l2_loss: 0.0709 - loss: 0.1791 - learning_rate: 0.0012 - gradient_norm: 0.9629 - val_det_loss: 0.2589 - val_cls_loss: 0.2076 - val_box_loss: 0.0010 - val_reg_l2_loss: 0.0709 - val_loss: 0.3298\n",
            "Epoch 85/100\n",
            "23/23 [==============================] - 22s 972ms/step - det_loss: 0.1026 - cls_loss: 0.0794 - box_loss: 4.6436e-04 - reg_l2_loss: 0.0709 - loss: 0.1735 - learning_rate: 0.0010 - gradient_norm: 1.0361 - val_det_loss: 0.2595 - val_cls_loss: 0.2085 - val_box_loss: 0.0010 - val_reg_l2_loss: 0.0709 - val_loss: 0.3304\n",
            "Epoch 86/100\n",
            "23/23 [==============================] - 19s 850ms/step - det_loss: 0.1082 - cls_loss: 0.0814 - box_loss: 5.3440e-04 - reg_l2_loss: 0.0709 - loss: 0.1791 - learning_rate: 9.0433e-04 - gradient_norm: 0.9517 - val_det_loss: 0.2608 - val_cls_loss: 0.2100 - val_box_loss: 0.0010 - val_reg_l2_loss: 0.0709 - val_loss: 0.3317\n",
            "Epoch 87/100\n",
            "23/23 [==============================] - 20s 871ms/step - det_loss: 0.1044 - cls_loss: 0.0806 - box_loss: 4.7583e-04 - reg_l2_loss: 0.0709 - loss: 0.1753 - learning_rate: 7.7709e-04 - gradient_norm: 0.9443 - val_det_loss: 0.2647 - val_cls_loss: 0.2141 - val_box_loss: 0.0010 - val_reg_l2_loss: 0.0709 - val_loss: 0.3356\n",
            "Epoch 88/100\n",
            "23/23 [==============================] - 19s 856ms/step - det_loss: 0.1026 - cls_loss: 0.0781 - box_loss: 4.9084e-04 - reg_l2_loss: 0.0709 - loss: 0.1735 - learning_rate: 6.5914e-04 - gradient_norm: 0.9596 - val_det_loss: 0.2656 - val_cls_loss: 0.2145 - val_box_loss: 0.0010 - val_reg_l2_loss: 0.0709 - val_loss: 0.3365\n",
            "Epoch 89/100\n",
            "23/23 [==============================] - 20s 875ms/step - det_loss: 0.1073 - cls_loss: 0.0817 - box_loss: 5.1262e-04 - reg_l2_loss: 0.0709 - loss: 0.1782 - learning_rate: 5.5060e-04 - gradient_norm: 1.0123 - val_det_loss: 0.2650 - val_cls_loss: 0.2130 - val_box_loss: 0.0010 - val_reg_l2_loss: 0.0709 - val_loss: 0.3359\n",
            "Epoch 90/100\n",
            "23/23 [==============================] - 26s 1s/step - det_loss: 0.1086 - cls_loss: 0.0827 - box_loss: 5.1890e-04 - reg_l2_loss: 0.0709 - loss: 0.1795 - learning_rate: 4.5158e-04 - gradient_norm: 1.0072 - val_det_loss: 0.2630 - val_cls_loss: 0.2113 - val_box_loss: 0.0010 - val_reg_l2_loss: 0.0709 - val_loss: 0.3339\n",
            "Epoch 91/100\n",
            "23/23 [==============================] - 20s 860ms/step - det_loss: 0.0994 - cls_loss: 0.0776 - box_loss: 4.3614e-04 - reg_l2_loss: 0.0709 - loss: 0.1703 - learning_rate: 3.6216e-04 - gradient_norm: 0.9473 - val_det_loss: 0.2590 - val_cls_loss: 0.2079 - val_box_loss: 0.0010 - val_reg_l2_loss: 0.0709 - val_loss: 0.3299\n",
            "Epoch 92/100\n",
            "23/23 [==============================] - 20s 877ms/step - det_loss: 0.1047 - cls_loss: 0.0809 - box_loss: 4.7509e-04 - reg_l2_loss: 0.0709 - loss: 0.1755 - learning_rate: 2.8245e-04 - gradient_norm: 0.9818 - val_det_loss: 0.2616 - val_cls_loss: 0.2101 - val_box_loss: 0.0010 - val_reg_l2_loss: 0.0709 - val_loss: 0.3325\n",
            "Epoch 93/100\n",
            "23/23 [==============================] - 19s 845ms/step - det_loss: 0.1044 - cls_loss: 0.0771 - box_loss: 5.4657e-04 - reg_l2_loss: 0.0709 - loss: 0.1753 - learning_rate: 2.1253e-04 - gradient_norm: 0.8858 - val_det_loss: 0.2626 - val_cls_loss: 0.2110 - val_box_loss: 0.0010 - val_reg_l2_loss: 0.0709 - val_loss: 0.3335\n",
            "Epoch 94/100\n",
            "23/23 [==============================] - 19s 843ms/step - det_loss: 0.1071 - cls_loss: 0.0808 - box_loss: 5.2721e-04 - reg_l2_loss: 0.0709 - loss: 0.1780 - learning_rate: 1.5246e-04 - gradient_norm: 1.0173 - val_det_loss: 0.2619 - val_cls_loss: 0.2105 - val_box_loss: 0.0010 - val_reg_l2_loss: 0.0709 - val_loss: 0.3328\n",
            "Epoch 95/100\n",
            "23/23 [==============================] - 21s 946ms/step - det_loss: 0.1073 - cls_loss: 0.0828 - box_loss: 4.9024e-04 - reg_l2_loss: 0.0709 - loss: 0.1782 - learning_rate: 1.0231e-04 - gradient_norm: 1.0030 - val_det_loss: 0.2631 - val_cls_loss: 0.2113 - val_box_loss: 0.0010 - val_reg_l2_loss: 0.0709 - val_loss: 0.3339\n",
            "Epoch 96/100\n",
            "23/23 [==============================] - 20s 884ms/step - det_loss: 0.1034 - cls_loss: 0.0805 - box_loss: 4.5694e-04 - reg_l2_loss: 0.0709 - loss: 0.1743 - learning_rate: 6.2124e-05 - gradient_norm: 0.9878 - val_det_loss: 0.2624 - val_cls_loss: 0.2109 - val_box_loss: 0.0010 - val_reg_l2_loss: 0.0709 - val_loss: 0.3333\n",
            "Epoch 97/100\n",
            "23/23 [==============================] - 19s 853ms/step - det_loss: 0.1086 - cls_loss: 0.0816 - box_loss: 5.4022e-04 - reg_l2_loss: 0.0709 - loss: 0.1795 - learning_rate: 3.1944e-05 - gradient_norm: 0.9857 - val_det_loss: 0.2620 - val_cls_loss: 0.2104 - val_box_loss: 0.0010 - val_reg_l2_loss: 0.0709 - val_loss: 0.3328\n",
            "Epoch 98/100\n",
            "23/23 [==============================] - 20s 871ms/step - det_loss: 0.1011 - cls_loss: 0.0783 - box_loss: 4.5579e-04 - reg_l2_loss: 0.0709 - loss: 0.1720 - learning_rate: 1.1801e-05 - gradient_norm: 0.9366 - val_det_loss: 0.2614 - val_cls_loss: 0.2098 - val_box_loss: 0.0010 - val_reg_l2_loss: 0.0709 - val_loss: 0.3323\n",
            "Epoch 99/100\n",
            "23/23 [==============================] - 21s 921ms/step - det_loss: 0.1095 - cls_loss: 0.0839 - box_loss: 5.1082e-04 - reg_l2_loss: 0.0709 - loss: 0.1804 - learning_rate: 1.7151e-06 - gradient_norm: 0.9775 - val_det_loss: 0.2615 - val_cls_loss: 0.2098 - val_box_loss: 0.0010 - val_reg_l2_loss: 0.0709 - val_loss: 0.3324\n",
            "Epoch 100/100\n",
            "23/23 [==============================] - 26s 1s/step - det_loss: 0.1087 - cls_loss: 0.0826 - box_loss: 5.2390e-04 - reg_l2_loss: 0.0709 - loss: 0.1796 - learning_rate: 1.6969e-06 - gradient_norm: 1.0213 - val_det_loss: 0.2607 - val_cls_loss: 0.2093 - val_box_loss: 0.0010 - val_reg_l2_loss: 0.0709 - val_loss: 0.3316\n"
          ]
        }
      ],
      "source": [
        "model = object_detector.create(train_data, model_spec=spec, batch_size=16, train_whole_model=True, epochs=100, validation_data=val_data)"
      ]
    },
    {
      "cell_type": "markdown",
      "metadata": {
        "id": "KB4hKeerMmh4"
      },
      "source": [
        "### Step 4. Evaluate the model with the validation data.\n",
        "\n",
        "After training the object detection model using the images in the training dataset, use the 66 images in the validation dataset to evaluate how the model performs against new data it has never seen before.\n",
        "\n",
        "As the default batch size is 64, it will take 2 steps to go through the 66 images in the validation dataset.\n",
        "\n",
        "The evaluation metrics are same as [COCO](https://cocodataset.org/#detection-eval)."
      ]
    },
    {
      "cell_type": "code",
      "execution_count": null,
      "metadata": {
        "id": "OUqEpcYwAg8L",
        "colab": {
          "base_uri": "https://localhost:8080/"
        },
        "outputId": "4bd70b78-15a5-4a99-9fb8-f1cfe401adc9"
      },
      "outputs": [
        {
          "output_type": "stream",
          "name": "stdout",
          "text": [
            "2/2 [==============================] - 18s 3s/step\n",
            "\n"
          ]
        },
        {
          "output_type": "execute_result",
          "data": {
            "text/plain": [
              "{'AP': 0.835389,\n",
              " 'AP50': 0.9458122,\n",
              " 'AP75': 0.91237867,\n",
              " 'APs': -1.0,\n",
              " 'APm': 0.6364215,\n",
              " 'APl': 0.867218,\n",
              " 'ARmax1': 0.733871,\n",
              " 'ARmax10': 0.9096102,\n",
              " 'ARmax100': 0.91686827,\n",
              " 'ARs': -1.0,\n",
              " 'ARm': 0.80833334,\n",
              " 'ARl': 0.9234524,\n",
              " 'AP_/cone': 0.8312405,\n",
              " 'AP_/cube': 0.83953756,\n",
              " 'AP_/tipped_cone': -1.0}"
            ]
          },
          "metadata": {},
          "execution_count": 10
        }
      ],
      "source": [
        "model.evaluate(val_data)"
      ]
    },
    {
      "cell_type": "markdown",
      "metadata": {
        "id": "NARVYk9rGLIl"
      },
      "source": [
        "### Step 5: Export as a TensorFlow Lite model.\n",
        "\n",
        "Export the trained object detection model to the TensorFlow Lite format by specifying which folder you want to export the quantized model to. The default post-training quantization technique is [full integer quantization](https://www.tensorflow.org/lite/performance/post_training_integer_quant). This allows the TensorFlow Lite model to be smaller, run faster on Raspberry Pi CPU and also compatible with the Google Coral EdgeTPU."
      ]
    },
    {
      "cell_type": "code",
      "execution_count": null,
      "metadata": {
        "id": "_u3eFxoBAiqE"
      },
      "outputs": [],
      "source": [
        "model.export(export_dir='.', tflite_filename='frc2023elements.tflite')"
      ]
    },
    {
      "cell_type": "markdown",
      "metadata": {
        "id": "JZcBmEigOCO3"
      },
      "source": [
        "### Step 6:  Evaluate the TensorFlow Lite model.\n",
        "\n",
        "Several factors can affect the model accuracy when exporting to TFLite:\n",
        "* [Quantization](https://www.tensorflow.org/lite/performance/model_optimization) helps shrinking the model size by 4 times at the expense of some accuracy drop.\n",
        "* The original TensorFlow model uses per-class [non-max supression (NMS)](https://www.coursera.org/lecture/convolutional-neural-networks/non-max-suppression-dvrjH) for post-processing, while the TFLite model uses global NMS that's much faster but less accurate.\n",
        "Keras outputs maximum 100 detections while tflite outputs maximum 25 detections.\n",
        "\n",
        "Therefore you'll have to evaluate the exported TFLite model and compare its accuracy with the original TensorFlow model."
      ]
    },
    {
      "cell_type": "code",
      "execution_count": null,
      "metadata": {
        "id": "Jbl8z9_wBPlr",
        "colab": {
          "base_uri": "https://localhost:8080/"
        },
        "outputId": "d6c73758-0be5-4988-a04f-37a3e771c2f0"
      },
      "outputs": [
        {
          "output_type": "stream",
          "name": "stdout",
          "text": [
            "66/66 [==============================] - 380s 6s/step\n",
            "\n"
          ]
        },
        {
          "output_type": "execute_result",
          "data": {
            "text/plain": [
              "{'AP': 0.835234,\n",
              " 'AP50': 0.95819813,\n",
              " 'AP75': 0.92489064,\n",
              " 'APs': -1.0,\n",
              " 'APm': 0.62786424,\n",
              " 'APl': 0.8551864,\n",
              " 'ARmax1': 0.7432796,\n",
              " 'ARmax10': 0.88548386,\n",
              " 'ARmax100': 0.88548386,\n",
              " 'ARs': -1.0,\n",
              " 'ARm': 0.76666665,\n",
              " 'ARl': 0.89309525,\n",
              " 'AP_/cone': 0.8087295,\n",
              " 'AP_/cube': 0.8617385,\n",
              " 'AP_/tipped_cone': -1.0}"
            ]
          },
          "metadata": {},
          "execution_count": 12
        }
      ],
      "source": [
        "model.evaluate_tflite('frc2023elements.tflite', val_data)"
      ]
    },
    {
      "cell_type": "code",
      "execution_count": null,
      "metadata": {
        "id": "v7zgUkdOUUnD",
        "colab": {
          "base_uri": "https://localhost:8080/",
          "height": 17
        },
        "outputId": "a441464d-d7a5-4d37-cbf0-597385ea8a11"
      },
      "outputs": [
        {
          "output_type": "display_data",
          "data": {
            "text/plain": [
              "<IPython.core.display.Javascript object>"
            ],
            "application/javascript": [
              "\n",
              "    async function download(id, filename, size) {\n",
              "      if (!google.colab.kernel.accessAllowed) {\n",
              "        return;\n",
              "      }\n",
              "      const div = document.createElement('div');\n",
              "      const label = document.createElement('label');\n",
              "      label.textContent = `Downloading \"${filename}\": `;\n",
              "      div.appendChild(label);\n",
              "      const progress = document.createElement('progress');\n",
              "      progress.max = size;\n",
              "      div.appendChild(progress);\n",
              "      document.body.appendChild(div);\n",
              "\n",
              "      const buffers = [];\n",
              "      let downloaded = 0;\n",
              "\n",
              "      const channel = await google.colab.kernel.comms.open(id);\n",
              "      // Send a message to notify the kernel that we're ready.\n",
              "      channel.send({})\n",
              "\n",
              "      for await (const message of channel.messages) {\n",
              "        // Send a message to notify the kernel that we're ready.\n",
              "        channel.send({})\n",
              "        if (message.buffers) {\n",
              "          for (const buffer of message.buffers) {\n",
              "            buffers.push(buffer);\n",
              "            downloaded += buffer.byteLength;\n",
              "            progress.value = downloaded;\n",
              "          }\n",
              "        }\n",
              "      }\n",
              "      const blob = new Blob(buffers, {type: 'application/binary'});\n",
              "      const a = document.createElement('a');\n",
              "      a.href = window.URL.createObjectURL(blob);\n",
              "      a.download = filename;\n",
              "      div.appendChild(a);\n",
              "      a.click();\n",
              "      div.remove();\n",
              "    }\n",
              "  "
            ]
          },
          "metadata": {}
        },
        {
          "output_type": "display_data",
          "data": {
            "text/plain": [
              "<IPython.core.display.Javascript object>"
            ],
            "application/javascript": [
              "download(\"download_fa092a80-2f66-4c68-9fee-49c94b3d1681\", \"frc2023elements.tflite\", 5938008)"
            ]
          },
          "metadata": {}
        }
      ],
      "source": [
        "# Download the TFLite model to your local computer.\n",
        "from google.colab import files\n",
        "files.download('frc2023elements.tflite')"
      ]
    },
    {
      "cell_type": "markdown",
      "metadata": {
        "id": "wnqktl45PZRy"
      },
      "source": [
        "## Test the Android figurine detection model\n",
        "\n",
        "After training the model, let's test it with an image that the model hasn't seen before to get a sense of how good the model is."
      ]
    },
    {
      "cell_type": "code",
      "execution_count": null,
      "metadata": {
        "cellView": "form",
        "id": "9ZsLQtJ1AlW_"
      },
      "outputs": [],
      "source": [
        "#@title Load the trained TFLite model and define some visualization functions\n",
        "\n",
        "#@markdown This code comes from the TFLite Object Detection [Raspberry Pi sample](https://github.com/tensorflow/examples/tree/master/lite/examples/object_detection/raspberry_pi).\n",
        "\n",
        "import platform\n",
        "from typing import List, NamedTuple\n",
        "import json\n",
        "\n",
        "import cv2\n",
        "\n",
        "Interpreter = tf.lite.Interpreter\n",
        "load_delegate = tf.lite.experimental.load_delegate\n",
        "\n",
        "# pylint: enable=g-import-not-at-top\n",
        "\n",
        "\n",
        "class ObjectDetectorOptions(NamedTuple):\n",
        "  \"\"\"A config to initialize an object detector.\"\"\"\n",
        "\n",
        "  enable_edgetpu: bool = False\n",
        "  \"\"\"Enable the model to run on EdgeTPU.\"\"\"\n",
        "\n",
        "  label_allow_list: List[str] = None\n",
        "  \"\"\"The optional allow list of labels.\"\"\"\n",
        "\n",
        "  label_deny_list: List[str] = None\n",
        "  \"\"\"The optional deny list of labels.\"\"\"\n",
        "\n",
        "  max_results: int = -1\n",
        "  \"\"\"The maximum number of top-scored detection results to return.\"\"\"\n",
        "\n",
        "  num_threads: int = 1\n",
        "  \"\"\"The number of CPU threads to be used.\"\"\"\n",
        "\n",
        "  score_threshold: float = 0.0\n",
        "  \"\"\"The score threshold of detection results to return.\"\"\"\n",
        "\n",
        "\n",
        "class Rect(NamedTuple):\n",
        "  \"\"\"A rectangle in 2D space.\"\"\"\n",
        "  left: float\n",
        "  top: float\n",
        "  right: float\n",
        "  bottom: float\n",
        "\n",
        "\n",
        "class Category(NamedTuple):\n",
        "  \"\"\"A result of a classification task.\"\"\"\n",
        "  label: str\n",
        "  score: float\n",
        "  index: int\n",
        "\n",
        "\n",
        "class Detection(NamedTuple):\n",
        "  \"\"\"A detected object as the result of an ObjectDetector.\"\"\"\n",
        "  bounding_box: Rect\n",
        "  categories: List[Category]\n",
        "\n",
        "\n",
        "def edgetpu_lib_name():\n",
        "  \"\"\"Returns the library name of EdgeTPU in the current platform.\"\"\"\n",
        "  return {\n",
        "      'Darwin': 'libedgetpu.1.dylib',\n",
        "      'Linux': 'libedgetpu.so.1',\n",
        "      'Windows': 'edgetpu.dll',\n",
        "  }.get(platform.system(), None)\n",
        "\n",
        "\n",
        "class ObjectDetector:\n",
        "  \"\"\"A wrapper class for a TFLite object detection model.\"\"\"\n",
        "\n",
        "  _OUTPUT_LOCATION_NAME = 'location'\n",
        "  _OUTPUT_CATEGORY_NAME = 'category'\n",
        "  _OUTPUT_SCORE_NAME = 'score'\n",
        "  _OUTPUT_NUMBER_NAME = 'number of detections'\n",
        "\n",
        "  def __init__(\n",
        "      self,\n",
        "      model_path: str,\n",
        "      options: ObjectDetectorOptions = ObjectDetectorOptions()\n",
        "  ) -> None:\n",
        "    \"\"\"Initialize a TFLite object detection model.\n",
        "    Args:\n",
        "        model_path: Path to the TFLite model.\n",
        "        options: The config to initialize an object detector. (Optional)\n",
        "    Raises:\n",
        "        ValueError: If the TFLite model is invalid.\n",
        "        OSError: If the current OS isn't supported by EdgeTPU.\n",
        "    \"\"\"\n",
        "\n",
        "    # Load metadata from model.\n",
        "    displayer = metadata.MetadataDisplayer.with_model_file(model_path)\n",
        "\n",
        "    # Save model metadata for preprocessing later.\n",
        "    model_metadata = json.loads(displayer.get_metadata_json())\n",
        "    process_units = model_metadata['subgraph_metadata'][0]['input_tensor_metadata'][0]['process_units']\n",
        "    mean = 0.0\n",
        "    std = 1.0\n",
        "    for option in process_units:\n",
        "      if option['options_type'] == 'NormalizationOptions':\n",
        "        mean = option['options']['mean'][0]\n",
        "        std = option['options']['std'][0]\n",
        "    self._mean = mean\n",
        "    self._std = std\n",
        "\n",
        "    # Load label list from metadata.\n",
        "    file_name = displayer.get_packed_associated_file_list()[0]\n",
        "    label_map_file = displayer.get_associated_file_buffer(file_name).decode()\n",
        "    label_list = list(filter(lambda x: len(x) > 0, label_map_file.splitlines()))\n",
        "    self._label_list = label_list\n",
        "\n",
        "    # Initialize TFLite model.\n",
        "    if options.enable_edgetpu:\n",
        "      if edgetpu_lib_name() is None:\n",
        "        raise OSError(\"The current OS isn't supported by Coral EdgeTPU.\")\n",
        "      interpreter = Interpreter(\n",
        "          model_path=model_path,\n",
        "          experimental_delegates=[load_delegate(edgetpu_lib_name())],\n",
        "          num_threads=options.num_threads)\n",
        "    else:\n",
        "      interpreter = Interpreter(\n",
        "          model_path=model_path, num_threads=options.num_threads)\n",
        "\n",
        "    interpreter.allocate_tensors()\n",
        "    input_detail = interpreter.get_input_details()[0]\n",
        "\n",
        "    # From TensorFlow 2.6, the order of the outputs become undefined.\n",
        "    # Therefore we need to sort the tensor indices of TFLite outputs and to know\n",
        "    # exactly the meaning of each output tensor. For example, if\n",
        "    # output indices are [601, 599, 598, 600], tensor names and indices aligned\n",
        "    # are:\n",
        "    #   - location: 598\n",
        "    #   - category: 599\n",
        "    #   - score: 600\n",
        "    #   - detection_count: 601\n",
        "    # because of the op's ports of TFLITE_DETECTION_POST_PROCESS\n",
        "    # (https://github.com/tensorflow/tensorflow/blob/a4fe268ea084e7d323133ed7b986e0ae259a2bc7/tensorflow/lite/kernels/detection_postprocess.cc#L47-L50).\n",
        "    sorted_output_indices = sorted(\n",
        "        [output['index'] for output in interpreter.get_output_details()])\n",
        "    self._output_indices = {\n",
        "        self._OUTPUT_LOCATION_NAME: sorted_output_indices[0],\n",
        "        self._OUTPUT_CATEGORY_NAME: sorted_output_indices[1],\n",
        "        self._OUTPUT_SCORE_NAME: sorted_output_indices[2],\n",
        "        self._OUTPUT_NUMBER_NAME: sorted_output_indices[3],\n",
        "    }\n",
        "\n",
        "    self._input_size = input_detail['shape'][2], input_detail['shape'][1]\n",
        "    self._is_quantized_input = input_detail['dtype'] == np.uint8\n",
        "    self._interpreter = interpreter\n",
        "    self._options = options\n",
        "\n",
        "  def detect(self, input_image: np.ndarray) -> List[Detection]:\n",
        "    \"\"\"Run detection on an input image.\n",
        "    Args:\n",
        "        input_image: A [height, width, 3] RGB image. Note that height and width\n",
        "          can be anything since the image will be immediately resized according\n",
        "          to the needs of the model within this function.\n",
        "    Returns:\n",
        "        A Person instance.\n",
        "    \"\"\"\n",
        "    image_height, image_width, _ = input_image.shape\n",
        "\n",
        "    input_tensor = self._preprocess(input_image)\n",
        "\n",
        "    self._set_input_tensor(input_tensor)\n",
        "    self._interpreter.invoke()\n",
        "\n",
        "    # Get all output details\n",
        "    boxes = self._get_output_tensor(self._OUTPUT_LOCATION_NAME)\n",
        "    classes = self._get_output_tensor(self._OUTPUT_CATEGORY_NAME)\n",
        "    scores = self._get_output_tensor(self._OUTPUT_SCORE_NAME)\n",
        "    count = int(self._get_output_tensor(self._OUTPUT_NUMBER_NAME))\n",
        "\n",
        "    return self._postprocess(boxes, classes, scores, count, image_width,\n",
        "                             image_height)\n",
        "\n",
        "  def _preprocess(self, input_image: np.ndarray) -> np.ndarray:\n",
        "    \"\"\"Preprocess the input image as required by the TFLite model.\"\"\"\n",
        "\n",
        "    # Resize the input\n",
        "    input_tensor = cv2.resize(input_image, self._input_size)\n",
        "\n",
        "    # Normalize the input if it's a float model (aka. not quantized)\n",
        "    if not self._is_quantized_input:\n",
        "      input_tensor = (np.float32(input_tensor) - self._mean) / self._std\n",
        "\n",
        "    # Add batch dimension\n",
        "    input_tensor = np.expand_dims(input_tensor, axis=0)\n",
        "\n",
        "    return input_tensor\n",
        "\n",
        "  def _set_input_tensor(self, image):\n",
        "    \"\"\"Sets the input tensor.\"\"\"\n",
        "    tensor_index = self._interpreter.get_input_details()[0]['index']\n",
        "    input_tensor = self._interpreter.tensor(tensor_index)()[0]\n",
        "    input_tensor[:, :] = image\n",
        "\n",
        "  def _get_output_tensor(self, name):\n",
        "    \"\"\"Returns the output tensor at the given index.\"\"\"\n",
        "    output_index = self._output_indices[name]\n",
        "    tensor = np.squeeze(self._interpreter.get_tensor(output_index))\n",
        "    return tensor\n",
        "\n",
        "  def _postprocess(self, boxes: np.ndarray, classes: np.ndarray,\n",
        "                   scores: np.ndarray, count: int, image_width: int,\n",
        "                   image_height: int) -> List[Detection]:\n",
        "    \"\"\"Post-process the output of TFLite model into a list of Detection objects.\n",
        "    Args:\n",
        "        boxes: Bounding boxes of detected objects from the TFLite model.\n",
        "        classes: Class index of the detected objects from the TFLite model.\n",
        "        scores: Confidence scores of the detected objects from the TFLite model.\n",
        "        count: Number of detected objects from the TFLite model.\n",
        "        image_width: Width of the input image.\n",
        "        image_height: Height of the input image.\n",
        "    Returns:\n",
        "        A list of Detection objects detected by the TFLite model.\n",
        "    \"\"\"\n",
        "    results = []\n",
        "\n",
        "    # Parse the model output into a list of Detection entities.\n",
        "    for i in range(count):\n",
        "      if scores[i] >= self._options.score_threshold:\n",
        "        y_min, x_min, y_max, x_max = boxes[i]\n",
        "        bounding_box = Rect(\n",
        "            top=int(y_min * image_height),\n",
        "            left=int(x_min * image_width),\n",
        "            bottom=int(y_max * image_height),\n",
        "            right=int(x_max * image_width))\n",
        "        class_id = int(classes[i])\n",
        "        category = Category(\n",
        "            score=scores[i],\n",
        "            label=self._label_list[class_id],  # 0 is reserved for background\n",
        "            index=class_id)\n",
        "        result = Detection(bounding_box=bounding_box, categories=[category])\n",
        "        results.append(result)\n",
        "\n",
        "    # Sort detection results by score ascending\n",
        "    sorted_results = sorted(\n",
        "        results,\n",
        "        key=lambda detection: detection.categories[0].score,\n",
        "        reverse=True)\n",
        "\n",
        "    # Filter out detections in deny list\n",
        "    filtered_results = sorted_results\n",
        "    if self._options.label_deny_list is not None:\n",
        "      filtered_results = list(\n",
        "          filter(\n",
        "              lambda detection: detection.categories[0].label not in self.\n",
        "              _options.label_deny_list, filtered_results))\n",
        "\n",
        "    # Keep only detections in allow list\n",
        "    if self._options.label_allow_list is not None:\n",
        "      filtered_results = list(\n",
        "          filter(\n",
        "              lambda detection: detection.categories[0].label in self._options.\n",
        "              label_allow_list, filtered_results))\n",
        "\n",
        "    # Only return maximum of max_results detection.\n",
        "    if self._options.max_results > 0:\n",
        "      result_count = min(len(filtered_results), self._options.max_results)\n",
        "      filtered_results = filtered_results[:result_count]\n",
        "\n",
        "    return filtered_results\n",
        "\n",
        "\n",
        "_MARGIN = 10  # pixels\n",
        "_ROW_SIZE = 10  # pixels\n",
        "_FONT_SIZE = 1\n",
        "_FONT_THICKNESS = 1\n",
        "_TEXT_COLOR = (0, 0, 255)  # red\n",
        "\n",
        "\n",
        "def visualize(\n",
        "    image: np.ndarray,\n",
        "    detections: List[Detection],\n",
        ") -> np.ndarray:\n",
        "  \"\"\"Draws bounding boxes on the input image and return it.\n",
        "  Args:\n",
        "    image: The input RGB image.\n",
        "    detections: The list of all \"Detection\" entities to be visualize.\n",
        "  Returns:\n",
        "    Image with bounding boxes.\n",
        "  \"\"\"\n",
        "  for detection in detections:\n",
        "    # Draw bounding_box\n",
        "    start_point = detection.bounding_box.left, detection.bounding_box.top\n",
        "    end_point = detection.bounding_box.right, detection.bounding_box.bottom\n",
        "    cv2.rectangle(image, start_point, end_point, _TEXT_COLOR, 3)\n",
        "\n",
        "    # Draw label and score\n",
        "    category = detection.categories[0]\n",
        "    class_name = category.label\n",
        "    probability = round(category.score, 2)\n",
        "    result_text = class_name + ' (' + str(probability) + ')'\n",
        "    text_location = (_MARGIN + detection.bounding_box.left,\n",
        "                     _MARGIN + _ROW_SIZE + detection.bounding_box.top)\n",
        "    cv2.putText(image, result_text, text_location, cv2.FONT_HERSHEY_PLAIN,\n",
        "                _FONT_SIZE, _TEXT_COLOR, _FONT_THICKNESS)\n",
        "\n",
        "  return image"
      ]
    },
    {
      "cell_type": "code",
      "execution_count": null,
      "metadata": {
        "cellView": "form",
        "id": "1t1z2fKlAoB0"
      },
      "outputs": [],
      "source": [
        "#@title Run object detection and show the detection results\n",
        "\n",
        "from PIL import Image\n",
        "\n",
        "INPUT_IMAGE_URL = \"http://download.tensorflow.org/example_images/android_figurine.jpg\" #@param {type:\"string\"}\n",
        "DETECTION_THRESHOLD = 0.5 #@param {type:\"number\"}\n",
        "TFLITE_MODEL_PATH = \"frc2023elements.tflite\" #@param {type:\"string\"}\n",
        "\n",
        "TEMP_FILE = '/tmp/image.png'\n",
        "\n",
        "!wget -q -O $TEMP_FILE $INPUT_IMAGE_URL\n",
        "image = Image.open(TEMP_FILE).convert('RGB')\n",
        "image.thumbnail((512, 512), Image.ANTIALIAS)\n",
        "image_np = np.asarray(image)\n",
        "\n",
        "# Load the TFLite model\n",
        "options = ObjectDetectorOptions(\n",
        "      num_threads=4,\n",
        "      score_threshold=DETECTION_THRESHOLD,\n",
        ")\n",
        "detector = ObjectDetector(model_path=TFLITE_MODEL_PATH, options=options)\n",
        "\n",
        "# Run object detection estimation using the model.\n",
        "detections = detector.detect(image_np)\n",
        "\n",
        "# Draw keypoints and edges on input image\n",
        "image_np = visualize(image_np, detections)\n",
        "\n",
        "# Show the detection result\n",
        "Image.fromarray(image_np)"
      ]
    },
    {
      "cell_type": "markdown",
      "metadata": {
        "id": "RWP3fEPaGNvd"
      },
      "source": [
        "## Compile the model for EdgeTPU\n",
        "\n",
        "Finally, we'll compile the model using `edgetpu_compiler` so that the model can run on [Google Coral EdgeTPU](https://coral.ai/).\n",
        "\n",
        "We start with installing the EdgeTPU compiler on Colab."
      ]
    },
    {
      "cell_type": "code",
      "execution_count": null,
      "metadata": {
        "id": "kK6AN1xVAsCb",
        "colab": {
          "base_uri": "https://localhost:8080/"
        },
        "outputId": "048a7a89-a78e-4a52-8e1e-455636797d1c"
      },
      "outputs": [
        {
          "output_type": "stream",
          "name": "stdout",
          "text": [
            "  % Total    % Received % Xferd  Average Speed   Time    Time     Time  Current\n",
            "                                 Dload  Upload   Total   Spent    Left  Speed\n",
            "\r  0     0    0     0    0     0      0      0 --:--:-- --:--:-- --:--:--     0\r100  1210  100  1210    0     0  55000      0 --:--:-- --:--:-- --:--:-- 55000\n",
            "OK\n",
            "deb https://packages.cloud.google.com/apt coral-edgetpu-stable main\n",
            "Get:1 https://packages.cloud.google.com/apt coral-edgetpu-stable InRelease [6,332 B]\n",
            "Hit:2 http://archive.ubuntu.com/ubuntu focal InRelease\n",
            "Get:3 http://security.ubuntu.com/ubuntu focal-security InRelease [114 kB]\n",
            "Get:4 https://cloud.r-project.org/bin/linux/ubuntu focal-cran40/ InRelease [3,622 B]\n",
            "Hit:5 https://developer.download.nvidia.com/compute/cuda/repos/ubuntu2004/x86_64  InRelease\n",
            "Get:6 http://archive.ubuntu.com/ubuntu focal-updates InRelease [114 kB]\n",
            "Ign:7 https://packages.cloud.google.com/apt coral-edgetpu-stable/main amd64 Packages\n",
            "Hit:8 http://ppa.launchpad.net/c2d4u.team/c2d4u4.0+/ubuntu focal InRelease\n",
            "Get:9 http://archive.ubuntu.com/ubuntu focal-backports InRelease [108 kB]\n",
            "Get:7 https://packages.cloud.google.com/apt coral-edgetpu-stable/main amd64 Packages [2,317 B]\n",
            "Hit:10 http://ppa.launchpad.net/cran/libgit2/ubuntu focal InRelease\n",
            "Get:11 http://security.ubuntu.com/ubuntu focal-security/universe amd64 Packages [1,028 kB]\n",
            "Get:12 http://archive.ubuntu.com/ubuntu focal-updates/universe amd64 Packages [1,324 kB]\n",
            "Get:13 http://ppa.launchpad.net/deadsnakes/ppa/ubuntu focal InRelease [18.1 kB]\n",
            "Get:14 http://security.ubuntu.com/ubuntu focal-security/main amd64 Packages [2,590 kB]\n",
            "Get:15 http://archive.ubuntu.com/ubuntu focal-updates/main amd64 Packages [3,069 kB]\n",
            "Hit:16 http://ppa.launchpad.net/graphics-drivers/ppa/ubuntu focal InRelease\n",
            "Hit:17 http://ppa.launchpad.net/ubuntugis/ppa/ubuntu focal InRelease\n",
            "Get:18 http://ppa.launchpad.net/deadsnakes/ppa/ubuntu focal/main amd64 Packages [29.5 kB]\n",
            "Fetched 8,407 kB in 2s (5,190 kB/s)\n",
            "Reading package lists... Done\n",
            "Reading package lists... Done\n",
            "Building dependency tree       \n",
            "Reading state information... Done\n",
            "The following NEW packages will be installed:\n",
            "  edgetpu-compiler\n",
            "0 upgraded, 1 newly installed, 0 to remove and 25 not upgraded.\n",
            "Need to get 7,913 kB of archives.\n",
            "After this operation, 31.2 MB of additional disk space will be used.\n",
            "Get:1 https://packages.cloud.google.com/apt coral-edgetpu-stable/main amd64 edgetpu-compiler amd64 16.0 [7,913 kB]\n",
            "Fetched 7,913 kB in 0s (20.0 MB/s)\n",
            "debconf: unable to initialize frontend: Dialog\n",
            "debconf: (No usable dialog-like program is installed, so the dialog based frontend cannot be used. at /usr/share/perl5/Debconf/FrontEnd/Dialog.pm line 76, <> line 1.)\n",
            "debconf: falling back to frontend: Readline\n",
            "debconf: unable to initialize frontend: Readline\n",
            "debconf: (This frontend requires a controlling tty.)\n",
            "debconf: falling back to frontend: Teletype\n",
            "dpkg-preconfigure: unable to re-open stdin: \n",
            "Selecting previously unselected package edgetpu-compiler.\n",
            "(Reading database ... 122349 files and directories currently installed.)\n",
            "Preparing to unpack .../edgetpu-compiler_16.0_amd64.deb ...\n",
            "Unpacking edgetpu-compiler (16.0) ...\n",
            "Setting up edgetpu-compiler (16.0) ...\n",
            "Processing triggers for libc-bin (2.31-0ubuntu9.9) ...\n"
          ]
        }
      ],
      "source": [
        "!curl https://packages.cloud.google.com/apt/doc/apt-key.gpg | sudo apt-key add -\n",
        "!echo \"deb https://packages.cloud.google.com/apt coral-edgetpu-stable main\" | sudo tee /etc/apt/sources.list.d/coral-edgetpu.list\n",
        "!sudo apt-get update\n",
        "!sudo apt-get install edgetpu-compiler"
      ]
    },
    {
      "cell_type": "markdown",
      "metadata": {
        "id": "bIGSdzXkEzrj"
      },
      "source": [
        "**Note:** When training the model using a custom dataset, beware that if your dataset includes more than 20 classes, you'll probably have slower inference speeds compared to if you have fewer classes. This is due to an aspect of the EfficientDet architecture in which a certain layer cannot compile for the Edge TPU when it carries more than 20 classes."
      ]
    },
    {
      "cell_type": "markdown",
      "metadata": {
        "id": "rzF6u0FZTAjF"
      },
      "source": [
        "Before compiling the `.tflite` file for the Edge TPU, it's important to consider whether your model will fit into the Edge TPU memory. \n",
        "\n",
        "The Edge TPU has approximately 8 MB of SRAM for [caching model paramaters](https://coral.ai/docs/edgetpu/compiler/#parameter-data-caching), so any model close to or over 8 MB will not fit onto the Edge TPU memory. That means the inference times are longer, because some model parameters must be fetched from the host system memory.\n",
        "\n",
        "One way to elimiate the extra latency is to use [model pipelining](https://coral.ai/docs/edgetpu/pipeline/), which splits the model into segments that can run on separate Edge TPUs in series. This can significantly reduce the latency for big models.\n",
        "\n",
        "The following table provides recommendations for the number of Edge TPUs to use with each EfficientDet-Lite model.\n",
        "\n",
        "| Model architecture | Minimum TPUs | Recommended TPUs\n",
        "|--------------------|-------|-------|\n",
        "| EfficientDet-Lite0 | 1     | 1     |\n",
        "| EfficientDet-Lite1 | 1     | 1     |\n",
        "| EfficientDet-Lite2 | 1     | 2     |\n",
        "| EfficientDet-Lite3 | 2     | 2     |\n",
        "| EfficientDet-Lite4 | 2     | 3     |\n",
        "\n",
        "If you need extra Edge TPUs for your model, then update `NUMBER_OF_TPUS` here:"
      ]
    },
    {
      "cell_type": "code",
      "execution_count": null,
      "metadata": {
        "id": "JyptUjakAwzz",
        "colab": {
          "base_uri": "https://localhost:8080/"
        },
        "outputId": "cbc3d0c4-1cc6-4d11-9bf8-e055124de55d"
      },
      "outputs": [
        {
          "output_type": "stream",
          "name": "stdout",
          "text": [
            "Edge TPU Compiler version 16.0.384591198\n",
            "Started a compilation timeout timer of 180 seconds.\n",
            "\n",
            "Model compiled successfully in 5793 ms.\n",
            "\n",
            "Input model: frc2023elements.tflite\n",
            "Input size: 5.66MiB\n",
            "Output model: frc2023elements_edgetpu.tflite\n",
            "Output size: 7.57MiB\n",
            "On-chip memory used for caching model parameters: 5.92MiB\n",
            "On-chip memory remaining for caching model parameters: 1.58MiB\n",
            "Off-chip memory used for streaming uncached model parameters: 0.00B\n",
            "Number of Edge TPU subgraphs: 1\n",
            "Total number of operations: 322\n",
            "Operation log: frc2023elements_edgetpu.log\n",
            "\n",
            "Model successfully compiled but not all operations are supported by the Edge TPU. A percentage of the model will instead run on the CPU, which is slower. If possible, consider updating your model to use only operations supported by the Edge TPU. For details, visit g.co/coral/model-reqs.\n",
            "Number of operations that will run on Edge TPU: 319\n",
            "Number of operations that will run on CPU: 3\n",
            "See the operation log file for individual operation details.\n",
            "Compilation child process completed within timeout period.\n",
            "Compilation succeeded! \n"
          ]
        }
      ],
      "source": [
        "NUMBER_OF_TPUS = 1\n",
        "\n",
        "!edgetpu_compiler frc2023elements.tflite --num_segments=$NUMBER_OF_TPUS"
      ]
    },
    {
      "cell_type": "markdown",
      "metadata": {
        "id": "pJYXucYWTGqZ"
      },
      "source": [
        "Finally, we'll copy the metadata, including the label file, from the original TensorFlow Lite model to the EdgeTPU model."
      ]
    },
    {
      "cell_type": "code",
      "execution_count": null,
      "metadata": {
        "id": "8LY1WrgMJBFd"
      },
      "outputs": [],
      "source": [
        "populator_dst = metadata.MetadataPopulator.with_model_file('frc2023elements_edgetpu.tflite')\n",
        "\n",
        "with open('frc2023elements.tflite', 'rb') as f:\n",
        "  populator_dst.load_metadata_and_associated_files(f.read())\n",
        "\n",
        "populator_dst.populate()\n",
        "updated_model_buf = populator_dst.get_model_buffer()"
      ]
    },
    {
      "cell_type": "code",
      "execution_count": null,
      "metadata": {
        "id": "VdRihInCJ3ie",
        "colab": {
          "base_uri": "https://localhost:8080/",
          "height": 17
        },
        "outputId": "b1761d98-2045-4045-d3e5-1f9ff3965804"
      },
      "outputs": [
        {
          "output_type": "display_data",
          "data": {
            "text/plain": [
              "<IPython.core.display.Javascript object>"
            ],
            "application/javascript": [
              "\n",
              "    async function download(id, filename, size) {\n",
              "      if (!google.colab.kernel.accessAllowed) {\n",
              "        return;\n",
              "      }\n",
              "      const div = document.createElement('div');\n",
              "      const label = document.createElement('label');\n",
              "      label.textContent = `Downloading \"${filename}\": `;\n",
              "      div.appendChild(label);\n",
              "      const progress = document.createElement('progress');\n",
              "      progress.max = size;\n",
              "      div.appendChild(progress);\n",
              "      document.body.appendChild(div);\n",
              "\n",
              "      const buffers = [];\n",
              "      let downloaded = 0;\n",
              "\n",
              "      const channel = await google.colab.kernel.comms.open(id);\n",
              "      // Send a message to notify the kernel that we're ready.\n",
              "      channel.send({})\n",
              "\n",
              "      for await (const message of channel.messages) {\n",
              "        // Send a message to notify the kernel that we're ready.\n",
              "        channel.send({})\n",
              "        if (message.buffers) {\n",
              "          for (const buffer of message.buffers) {\n",
              "            buffers.push(buffer);\n",
              "            downloaded += buffer.byteLength;\n",
              "            progress.value = downloaded;\n",
              "          }\n",
              "        }\n",
              "      }\n",
              "      const blob = new Blob(buffers, {type: 'application/binary'});\n",
              "      const a = document.createElement('a');\n",
              "      a.href = window.URL.createObjectURL(blob);\n",
              "      a.download = filename;\n",
              "      div.appendChild(a);\n",
              "      a.click();\n",
              "      div.remove();\n",
              "    }\n",
              "  "
            ]
          },
          "metadata": {}
        },
        {
          "output_type": "display_data",
          "data": {
            "text/plain": [
              "<IPython.core.display.Javascript object>"
            ],
            "application/javascript": [
              "download(\"download_0bb23576-9d1b-4676-a6bb-9786d721f44d\", \"frc2023elements_edgetpu.tflite\", 7936656)"
            ]
          },
          "metadata": {}
        }
      ],
      "source": [
        "# Download the TFLite model compiled for EdgeTPU to your local computer.\n",
        "from google.colab import files\n",
        "files.download('frc2023elements_edgetpu.tflite')"
      ]
    }
  ],
  "metadata": {
    "accelerator": "GPU",
    "colab": {
      "provenance": [],
      "toc_visible": true,
      "include_colab_link": true
    },
    "gpuClass": "standard",
    "kernelspec": {
      "display_name": "Python 3",
      "name": "python3"
    },
    "language_info": {
      "name": "python"
    }
  },
  "nbformat": 4,
  "nbformat_minor": 0
}